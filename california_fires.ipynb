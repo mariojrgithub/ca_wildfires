{
 "cells": [
  {
   "cell_type": "markdown",
   "metadata": {},
   "source": [
    "# California Fire Information"
   ]
  },
  {
   "cell_type": "code",
   "execution_count": 1,
   "metadata": {},
   "outputs": [],
   "source": [
    "# Import libaries\n",
    "import pandas as pd\n",
    "import numpy as np\n",
    "import requests\n",
    "from bs4 import BeautifulSoup\n",
    "import time"
   ]
  },
  {
   "cell_type": "markdown",
   "metadata": {},
   "source": [
    "Obtain current data from Cal-Fire website"
   ]
  },
  {
   "cell_type": "code",
   "execution_count": 2,
   "metadata": {},
   "outputs": [
    {
     "data": {
      "text/plain": [
       "200"
      ]
     },
     "execution_count": 2,
     "metadata": {},
     "output_type": "execute_result"
    }
   ],
   "source": [
    "# set url\n",
    "base_url = 'https://www.fire.ca.gov/incidents/'\n",
    "res = requests.get(base_url)\n",
    "# print status code\n",
    "res.status_code"
   ]
  },
  {
   "cell_type": "code",
   "execution_count": 3,
   "metadata": {},
   "outputs": [],
   "source": [
    "# create soup from base url\n",
    "soup = BeautifulSoup(res.content, 'lxml')"
   ]
  },
  {
   "cell_type": "code",
   "execution_count": 4,
   "metadata": {
    "scrolled": true
   },
   "outputs": [],
   "source": [
    "# examine soup object\n",
    "# print(soup.prettify())"
   ]
  },
  {
   "cell_type": "code",
   "execution_count": 5,
   "metadata": {
    "scrolled": true
   },
   "outputs": [],
   "source": [
    "# create table \n",
    "table = soup.find('div',{'class':'featured-incidents'})"
   ]
  },
  {
   "cell_type": "code",
   "execution_count": 6,
   "metadata": {
    "scrolled": true
   },
   "outputs": [],
   "source": [
    "# examine table\n",
    "# print(table.prettify())"
   ]
  },
  {
   "cell_type": "code",
   "execution_count": 7,
   "metadata": {},
   "outputs": [
    {
     "name": "stdout",
     "output_type": "stream",
     "text": [
      "7:12am\n",
      "10/23/2019\n",
      "10/27/2019\n",
      "10/27/2019\n",
      "7:30am\n",
      "7:31am\n",
      "6:47am\n",
      "10/27/2019\n",
      "10/27/2019\n",
      "10/27/2019\n",
      "10/24/2019\n",
      "10/24/2019\n",
      "10/22/2019\n",
      "10/21/2019\n",
      "10/14/2019\n",
      "10/04/2019\n"
     ]
    }
   ],
   "source": [
    "# cell used to isolate info\n",
    "for i in table.find_all('div',{'class':'featured-incident'}):\n",
    "    print(i.find('div',{'class':'incident-description'}).find('strong').text)\n"
   ]
  },
  {
   "cell_type": "code",
   "execution_count": 8,
   "metadata": {},
   "outputs": [
    {
     "data": {
      "text/html": [
       "<div>\n",
       "<style scoped>\n",
       "    .dataframe tbody tr th:only-of-type {\n",
       "        vertical-align: middle;\n",
       "    }\n",
       "\n",
       "    .dataframe tbody tr th {\n",
       "        vertical-align: top;\n",
       "    }\n",
       "\n",
       "    .dataframe thead th {\n",
       "        text-align: right;\n",
       "    }\n",
       "</style>\n",
       "<table border=\"1\" class=\"dataframe\">\n",
       "  <thead>\n",
       "    <tr style=\"text-align: right;\">\n",
       "      <th></th>\n",
       "      <th>%_contained</th>\n",
       "      <th>acres</th>\n",
       "      <th>current_as_of</th>\n",
       "      <th>lat</th>\n",
       "      <th>lng</th>\n",
       "      <th>name</th>\n",
       "    </tr>\n",
       "  </thead>\n",
       "  <tbody>\n",
       "    <tr>\n",
       "      <th>0</th>\n",
       "      <td>5%</td>\n",
       "      <td>66231</td>\n",
       "      <td>7:12am</td>\n",
       "      <td>38.792458</td>\n",
       "      <td>-122.780053</td>\n",
       "      <td>Kincade Fire</td>\n",
       "    </tr>\n",
       "    <tr>\n",
       "      <th>1</th>\n",
       "      <td>97%</td>\n",
       "      <td>8799</td>\n",
       "      <td>10/23/2019</td>\n",
       "      <td>34.32988</td>\n",
       "      <td>-118.48161</td>\n",
       "      <td>Saddle Ridge Fire</td>\n",
       "    </tr>\n",
       "    <tr>\n",
       "      <th>2</th>\n",
       "      <td>70%</td>\n",
       "      <td>4615</td>\n",
       "      <td>10/27/2019</td>\n",
       "      <td>34.472778</td>\n",
       "      <td>-118.368056</td>\n",
       "      <td>Tick Fire</td>\n",
       "    </tr>\n",
       "    <tr>\n",
       "      <th>3</th>\n",
       "      <td>20%</td>\n",
       "      <td>350</td>\n",
       "      <td>10/27/2019</td>\n",
       "      <td>39.22431</td>\n",
       "      <td>-123.12887</td>\n",
       "      <td>Burris Fire</td>\n",
       "    </tr>\n",
       "    <tr>\n",
       "      <th>4</th>\n",
       "      <td>90%</td>\n",
       "      <td>150</td>\n",
       "      <td>7:30am</td>\n",
       "      <td>38.03545</td>\n",
       "      <td>-122.2241</td>\n",
       "      <td>Sky Fire</td>\n",
       "    </tr>\n",
       "    <tr>\n",
       "      <th>5</th>\n",
       "      <td>98%</td>\n",
       "      <td>97</td>\n",
       "      <td>7:31am</td>\n",
       "      <td>33.055124</td>\n",
       "      <td>-116.742508</td>\n",
       "      <td>Sawday Fire</td>\n",
       "    </tr>\n",
       "    <tr>\n",
       "      <th>6</th>\n",
       "      <td>%</td>\n",
       "      <td>Not a CAL FIRE Incident</td>\n",
       "      <td>6:47am</td>\n",
       "      <td>34.098191</td>\n",
       "      <td>-118.478717</td>\n",
       "      <td>Getty Fire</td>\n",
       "    </tr>\n",
       "    <tr>\n",
       "      <th>7</th>\n",
       "      <td>%</td>\n",
       "      <td>Not a CAL FIRE Incident</td>\n",
       "      <td>10/27/2019</td>\n",
       "      <td>37.97911</td>\n",
       "      <td>-122.11092</td>\n",
       "      <td>Forest Fire</td>\n",
       "    </tr>\n",
       "    <tr>\n",
       "      <th>8</th>\n",
       "      <td>%</td>\n",
       "      <td>Not a CAL FIRE Incident</td>\n",
       "      <td>10/27/2019</td>\n",
       "      <td>38.07205</td>\n",
       "      <td>-122.22463</td>\n",
       "      <td>Glencove Fire</td>\n",
       "    </tr>\n",
       "    <tr>\n",
       "      <th>9</th>\n",
       "      <td>%</td>\n",
       "      <td>Not a CAL FIRE Incident</td>\n",
       "      <td>10/27/2019</td>\n",
       "      <td>37.99136</td>\n",
       "      <td>-121.64118</td>\n",
       "      <td>Cypress Complex</td>\n",
       "    </tr>\n",
       "    <tr>\n",
       "      <th>10</th>\n",
       "      <td>%</td>\n",
       "      <td>Not a CAL FIRE Incident</td>\n",
       "      <td>10/24/2019</td>\n",
       "      <td>34.183624</td>\n",
       "      <td>-117.274276</td>\n",
       "      <td>Old Water Fire</td>\n",
       "    </tr>\n",
       "    <tr>\n",
       "      <th>11</th>\n",
       "      <td>%</td>\n",
       "      <td>Not a CAL FIRE Incident</td>\n",
       "      <td>10/24/2019</td>\n",
       "      <td>33.351145</td>\n",
       "      <td>-117.403719</td>\n",
       "      <td>Oak Fire</td>\n",
       "    </tr>\n",
       "    <tr>\n",
       "      <th>12</th>\n",
       "      <td>%</td>\n",
       "      <td>Not a CAL FIRE Incident</td>\n",
       "      <td>10/22/2019</td>\n",
       "      <td>34.055768</td>\n",
       "      <td>-118.554091</td>\n",
       "      <td>Palisades Fire</td>\n",
       "    </tr>\n",
       "    <tr>\n",
       "      <th>13</th>\n",
       "      <td>%</td>\n",
       "      <td>Not a CAL FIRE Incident</td>\n",
       "      <td>10/21/2019</td>\n",
       "      <td>33.45148</td>\n",
       "      <td>-116.05898</td>\n",
       "      <td>Johnson Fire</td>\n",
       "    </tr>\n",
       "    <tr>\n",
       "      <th>14</th>\n",
       "      <td>%</td>\n",
       "      <td>Not a CAL FIRE Incident</td>\n",
       "      <td>10/14/2019</td>\n",
       "      <td>38.724</td>\n",
       "      <td>-120.145</td>\n",
       "      <td>Caples Fire</td>\n",
       "    </tr>\n",
       "    <tr>\n",
       "      <th>15</th>\n",
       "      <td>%</td>\n",
       "      <td>Not a CAL FIRE Incident</td>\n",
       "      <td>10/04/2019</td>\n",
       "      <td>37.034</td>\n",
       "      <td>-118.345</td>\n",
       "      <td>Taboose Fire</td>\n",
       "    </tr>\n",
       "  </tbody>\n",
       "</table>\n",
       "</div>"
      ],
      "text/plain": [
       "   %_contained                    acres current_as_of        lat          lng  \\\n",
       "0           5%                   66231         7:12am  38.792458  -122.780053   \n",
       "1          97%                    8799     10/23/2019   34.32988   -118.48161   \n",
       "2          70%                    4615     10/27/2019  34.472778  -118.368056   \n",
       "3          20%                     350     10/27/2019   39.22431   -123.12887   \n",
       "4          90%                     150         7:30am   38.03545    -122.2241   \n",
       "5          98%                      97         7:31am  33.055124  -116.742508   \n",
       "6            %  Not a CAL FIRE Incident        6:47am  34.098191  -118.478717   \n",
       "7            %  Not a CAL FIRE Incident    10/27/2019   37.97911   -122.11092   \n",
       "8            %  Not a CAL FIRE Incident    10/27/2019   38.07205   -122.22463   \n",
       "9            %  Not a CAL FIRE Incident    10/27/2019   37.99136   -121.64118   \n",
       "10           %  Not a CAL FIRE Incident    10/24/2019  34.183624  -117.274276   \n",
       "11           %  Not a CAL FIRE Incident    10/24/2019  33.351145  -117.403719   \n",
       "12           %  Not a CAL FIRE Incident    10/22/2019  34.055768  -118.554091   \n",
       "13           %  Not a CAL FIRE Incident    10/21/2019   33.45148   -116.05898   \n",
       "14           %  Not a CAL FIRE Incident    10/14/2019     38.724     -120.145   \n",
       "15           %  Not a CAL FIRE Incident    10/04/2019     37.034     -118.345   \n",
       "\n",
       "                 name  \n",
       "0        Kincade Fire  \n",
       "1   Saddle Ridge Fire  \n",
       "2           Tick Fire  \n",
       "3         Burris Fire  \n",
       "4           Sky Fire   \n",
       "5        Sawday Fire   \n",
       "6         Getty Fire   \n",
       "7         Forest Fire  \n",
       "8      Glencove Fire   \n",
       "9     Cypress Complex  \n",
       "10     Old Water Fire  \n",
       "11           Oak Fire  \n",
       "12     Palisades Fire  \n",
       "13      Johnson Fire   \n",
       "14        Caples Fire  \n",
       "15       Taboose Fire  "
      ]
     },
     "execution_count": 8,
     "metadata": {},
     "output_type": "execute_result"
    }
   ],
   "source": [
    "# loop through list to obtain desired info and create dataframe\n",
    "fires = []\n",
    "\n",
    "for i in table.find_all('div',{'class':'featured-incident'}):\n",
    "    fire = {}\n",
    "    \n",
    "    fire['name'] = i.find('div',{'class':'incident-label'}).text\n",
    "    fire['lat'] = i.attrs['data-lat']\n",
    "    fire['lng'] = i.attrs['data-long']\n",
    "    fire['%_contained'] = i.find('div',{'class':'incident-containment'}).attrs['style'].replace('width:', '').replace(';', '')\n",
    "    fire['acres'] = i.find('span',{'class':'incident-acres'}).text.replace('acres', '')\n",
    "    fire['current_as_of'] = i.find('div',{'class':'incident-description'}).find('strong').text\n",
    "    fires.append(fire)\n",
    "\n",
    "df = pd.DataFrame(fires)\n",
    "df    "
   ]
  },
  {
   "cell_type": "code",
   "execution_count": 9,
   "metadata": {},
   "outputs": [
    {
     "data": {
      "text/plain": [
       "%_contained      object\n",
       "acres            object\n",
       "current_as_of    object\n",
       "lat              object\n",
       "lng              object\n",
       "name             object\n",
       "dtype: object"
      ]
     },
     "execution_count": 9,
     "metadata": {},
     "output_type": "execute_result"
    }
   ],
   "source": [
    "df.dtypes"
   ]
  },
  {
   "cell_type": "code",
   "execution_count": 10,
   "metadata": {},
   "outputs": [
    {
     "data": {
      "text/plain": [
       "%_contained       object\n",
       "acres             object\n",
       "current_as_of     object\n",
       "lat              float64\n",
       "lng              float64\n",
       "name              object\n",
       "dtype: object"
      ]
     },
     "execution_count": 10,
     "metadata": {},
     "output_type": "execute_result"
    }
   ],
   "source": [
    "# cast lat and lng to float\n",
    "df[['lat', 'lng']] = df[['lat', 'lng']].astype(float)\n",
    "df.dtypes"
   ]
  },
  {
   "cell_type": "markdown",
   "metadata": {},
   "source": [
    "## Display fires on map"
   ]
  },
  {
   "cell_type": "code",
   "execution_count": 11,
   "metadata": {},
   "outputs": [],
   "source": [
    "import folium\n",
    "from folium.features import DivIcon"
   ]
  },
  {
   "cell_type": "code",
   "execution_count": 12,
   "metadata": {},
   "outputs": [],
   "source": [
    "from PIL import Image # converting images into arrays"
   ]
  },
  {
   "cell_type": "code",
   "execution_count": 13,
   "metadata": {
    "scrolled": false
   },
   "outputs": [
    {
     "data": {
      "text/html": [
       "<div style=\"width:100%;\"><div style=\"position:relative;width:100%;height:0;padding-bottom:60%;\"><iframe src=\"data:text/html;charset=utf-8;base64,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\" style=\"position:absolute;width:100%;height:100%;left:0;top:0;border:none !important;\" allowfullscreen webkitallowfullscreen mozallowfullscreen></iframe></div></div>"
      ],
      "text/plain": [
       "<folium.folium.Map at 0x28f4d09cc50>"
      ]
     },
     "execution_count": 13,
     "metadata": {},
     "output_type": "execute_result"
    }
   ],
   "source": [
    "# California latitude and longitude values\n",
    "latitude = 36.7783\n",
    "longitude = -119.4179\n",
    "\n",
    "# create map and display it\n",
    "cali_map = folium.Map(location=[latitude, longitude], zoom_start=6, tiles='Stamen Terrain')\n",
    "\n",
    "# add markers for fires\n",
    "labels = list(df.name)\n",
    "\n",
    "latitudes = list(df.lat)\n",
    "longitudes = list(df.lng)\n",
    "\n",
    "# Add fire as an icon\n",
    "icon_url = 'fire-icon.png'\n",
    "\n",
    "for lat, lng, label in zip(latitudes, longitudes, labels):\n",
    "    folium.Marker([lat, lng], popup=label, \n",
    "                  icon=folium.features.CustomIcon(icon_url, icon_size=(35,35))).add_to(cali_map) \n",
    "\n",
    "# add dateframe to map    \n",
    "folium.map.Marker(\n",
    "    [40.717893, -128.565340],\n",
    "    icon=DivIcon(\n",
    "        icon_anchor=(0,0),\n",
    "        icon_size=(1,1),\n",
    "        \n",
    "        html=df[['name', 'acres', '%_contained']].head(10).to_html(index=False),\n",
    "        )\n",
    "    ).add_to(cali_map)\n",
    "\n",
    "\n",
    "# display the map of California\n",
    "cali_map"
   ]
  },
  {
   "cell_type": "code",
   "execution_count": 14,
   "metadata": {},
   "outputs": [],
   "source": [
    "# save as html file\n",
    "cali_map.save('index.html')"
   ]
  },
  {
   "cell_type": "markdown",
   "metadata": {},
   "source": [
    "# Plot Numeric Data"
   ]
  },
  {
   "cell_type": "code",
   "execution_count": 49,
   "metadata": {},
   "outputs": [
    {
     "data": {
      "application/vnd.plotly.v1+json": {
       "config": {
        "plotlyServerURL": "https://plot.ly"
       },
       "data": [
        {
         "type": "bar",
         "x": [
          "Kincade Fire",
          "Saddle Ridge Fire",
          "Tick Fire",
          "Burris Fire",
          "Sky Fire "
         ],
         "y": [
          "66231 ",
          "8799 ",
          "4615 ",
          "350 ",
          "150 "
         ]
        }
       ],
       "layout": {
        "template": {
         "data": {
          "bar": [
           {
            "error_x": {
             "color": "#2a3f5f"
            },
            "error_y": {
             "color": "#2a3f5f"
            },
            "marker": {
             "line": {
              "color": "#E5ECF6",
              "width": 0.5
             }
            },
            "type": "bar"
           }
          ],
          "barpolar": [
           {
            "marker": {
             "line": {
              "color": "#E5ECF6",
              "width": 0.5
             }
            },
            "type": "barpolar"
           }
          ],
          "carpet": [
           {
            "aaxis": {
             "endlinecolor": "#2a3f5f",
             "gridcolor": "white",
             "linecolor": "white",
             "minorgridcolor": "white",
             "startlinecolor": "#2a3f5f"
            },
            "baxis": {
             "endlinecolor": "#2a3f5f",
             "gridcolor": "white",
             "linecolor": "white",
             "minorgridcolor": "white",
             "startlinecolor": "#2a3f5f"
            },
            "type": "carpet"
           }
          ],
          "choropleth": [
           {
            "colorbar": {
             "outlinewidth": 0,
             "ticks": ""
            },
            "type": "choropleth"
           }
          ],
          "contour": [
           {
            "colorbar": {
             "outlinewidth": 0,
             "ticks": ""
            },
            "colorscale": [
             [
              0,
              "#0d0887"
             ],
             [
              0.1111111111111111,
              "#46039f"
             ],
             [
              0.2222222222222222,
              "#7201a8"
             ],
             [
              0.3333333333333333,
              "#9c179e"
             ],
             [
              0.4444444444444444,
              "#bd3786"
             ],
             [
              0.5555555555555556,
              "#d8576b"
             ],
             [
              0.6666666666666666,
              "#ed7953"
             ],
             [
              0.7777777777777778,
              "#fb9f3a"
             ],
             [
              0.8888888888888888,
              "#fdca26"
             ],
             [
              1,
              "#f0f921"
             ]
            ],
            "type": "contour"
           }
          ],
          "contourcarpet": [
           {
            "colorbar": {
             "outlinewidth": 0,
             "ticks": ""
            },
            "type": "contourcarpet"
           }
          ],
          "heatmap": [
           {
            "colorbar": {
             "outlinewidth": 0,
             "ticks": ""
            },
            "colorscale": [
             [
              0,
              "#0d0887"
             ],
             [
              0.1111111111111111,
              "#46039f"
             ],
             [
              0.2222222222222222,
              "#7201a8"
             ],
             [
              0.3333333333333333,
              "#9c179e"
             ],
             [
              0.4444444444444444,
              "#bd3786"
             ],
             [
              0.5555555555555556,
              "#d8576b"
             ],
             [
              0.6666666666666666,
              "#ed7953"
             ],
             [
              0.7777777777777778,
              "#fb9f3a"
             ],
             [
              0.8888888888888888,
              "#fdca26"
             ],
             [
              1,
              "#f0f921"
             ]
            ],
            "type": "heatmap"
           }
          ],
          "heatmapgl": [
           {
            "colorbar": {
             "outlinewidth": 0,
             "ticks": ""
            },
            "colorscale": [
             [
              0,
              "#0d0887"
             ],
             [
              0.1111111111111111,
              "#46039f"
             ],
             [
              0.2222222222222222,
              "#7201a8"
             ],
             [
              0.3333333333333333,
              "#9c179e"
             ],
             [
              0.4444444444444444,
              "#bd3786"
             ],
             [
              0.5555555555555556,
              "#d8576b"
             ],
             [
              0.6666666666666666,
              "#ed7953"
             ],
             [
              0.7777777777777778,
              "#fb9f3a"
             ],
             [
              0.8888888888888888,
              "#fdca26"
             ],
             [
              1,
              "#f0f921"
             ]
            ],
            "type": "heatmapgl"
           }
          ],
          "histogram": [
           {
            "marker": {
             "colorbar": {
              "outlinewidth": 0,
              "ticks": ""
             }
            },
            "type": "histogram"
           }
          ],
          "histogram2d": [
           {
            "colorbar": {
             "outlinewidth": 0,
             "ticks": ""
            },
            "colorscale": [
             [
              0,
              "#0d0887"
             ],
             [
              0.1111111111111111,
              "#46039f"
             ],
             [
              0.2222222222222222,
              "#7201a8"
             ],
             [
              0.3333333333333333,
              "#9c179e"
             ],
             [
              0.4444444444444444,
              "#bd3786"
             ],
             [
              0.5555555555555556,
              "#d8576b"
             ],
             [
              0.6666666666666666,
              "#ed7953"
             ],
             [
              0.7777777777777778,
              "#fb9f3a"
             ],
             [
              0.8888888888888888,
              "#fdca26"
             ],
             [
              1,
              "#f0f921"
             ]
            ],
            "type": "histogram2d"
           }
          ],
          "histogram2dcontour": [
           {
            "colorbar": {
             "outlinewidth": 0,
             "ticks": ""
            },
            "colorscale": [
             [
              0,
              "#0d0887"
             ],
             [
              0.1111111111111111,
              "#46039f"
             ],
             [
              0.2222222222222222,
              "#7201a8"
             ],
             [
              0.3333333333333333,
              "#9c179e"
             ],
             [
              0.4444444444444444,
              "#bd3786"
             ],
             [
              0.5555555555555556,
              "#d8576b"
             ],
             [
              0.6666666666666666,
              "#ed7953"
             ],
             [
              0.7777777777777778,
              "#fb9f3a"
             ],
             [
              0.8888888888888888,
              "#fdca26"
             ],
             [
              1,
              "#f0f921"
             ]
            ],
            "type": "histogram2dcontour"
           }
          ],
          "mesh3d": [
           {
            "colorbar": {
             "outlinewidth": 0,
             "ticks": ""
            },
            "type": "mesh3d"
           }
          ],
          "parcoords": [
           {
            "line": {
             "colorbar": {
              "outlinewidth": 0,
              "ticks": ""
             }
            },
            "type": "parcoords"
           }
          ],
          "scatter": [
           {
            "marker": {
             "colorbar": {
              "outlinewidth": 0,
              "ticks": ""
             }
            },
            "type": "scatter"
           }
          ],
          "scatter3d": [
           {
            "line": {
             "colorbar": {
              "outlinewidth": 0,
              "ticks": ""
             }
            },
            "marker": {
             "colorbar": {
              "outlinewidth": 0,
              "ticks": ""
             }
            },
            "type": "scatter3d"
           }
          ],
          "scattercarpet": [
           {
            "marker": {
             "colorbar": {
              "outlinewidth": 0,
              "ticks": ""
             }
            },
            "type": "scattercarpet"
           }
          ],
          "scattergeo": [
           {
            "marker": {
             "colorbar": {
              "outlinewidth": 0,
              "ticks": ""
             }
            },
            "type": "scattergeo"
           }
          ],
          "scattergl": [
           {
            "marker": {
             "colorbar": {
              "outlinewidth": 0,
              "ticks": ""
             }
            },
            "type": "scattergl"
           }
          ],
          "scattermapbox": [
           {
            "marker": {
             "colorbar": {
              "outlinewidth": 0,
              "ticks": ""
             }
            },
            "type": "scattermapbox"
           }
          ],
          "scatterpolar": [
           {
            "marker": {
             "colorbar": {
              "outlinewidth": 0,
              "ticks": ""
             }
            },
            "type": "scatterpolar"
           }
          ],
          "scatterpolargl": [
           {
            "marker": {
             "colorbar": {
              "outlinewidth": 0,
              "ticks": ""
             }
            },
            "type": "scatterpolargl"
           }
          ],
          "scatterternary": [
           {
            "marker": {
             "colorbar": {
              "outlinewidth": 0,
              "ticks": ""
             }
            },
            "type": "scatterternary"
           }
          ],
          "surface": [
           {
            "colorbar": {
             "outlinewidth": 0,
             "ticks": ""
            },
            "colorscale": [
             [
              0,
              "#0d0887"
             ],
             [
              0.1111111111111111,
              "#46039f"
             ],
             [
              0.2222222222222222,
              "#7201a8"
             ],
             [
              0.3333333333333333,
              "#9c179e"
             ],
             [
              0.4444444444444444,
              "#bd3786"
             ],
             [
              0.5555555555555556,
              "#d8576b"
             ],
             [
              0.6666666666666666,
              "#ed7953"
             ],
             [
              0.7777777777777778,
              "#fb9f3a"
             ],
             [
              0.8888888888888888,
              "#fdca26"
             ],
             [
              1,
              "#f0f921"
             ]
            ],
            "type": "surface"
           }
          ],
          "table": [
           {
            "cells": {
             "fill": {
              "color": "#EBF0F8"
             },
             "line": {
              "color": "white"
             }
            },
            "header": {
             "fill": {
              "color": "#C8D4E3"
             },
             "line": {
              "color": "white"
             }
            },
            "type": "table"
           }
          ]
         },
         "layout": {
          "annotationdefaults": {
           "arrowcolor": "#2a3f5f",
           "arrowhead": 0,
           "arrowwidth": 1
          },
          "colorscale": {
           "diverging": [
            [
             0,
             "#8e0152"
            ],
            [
             0.1,
             "#c51b7d"
            ],
            [
             0.2,
             "#de77ae"
            ],
            [
             0.3,
             "#f1b6da"
            ],
            [
             0.4,
             "#fde0ef"
            ],
            [
             0.5,
             "#f7f7f7"
            ],
            [
             0.6,
             "#e6f5d0"
            ],
            [
             0.7,
             "#b8e186"
            ],
            [
             0.8,
             "#7fbc41"
            ],
            [
             0.9,
             "#4d9221"
            ],
            [
             1,
             "#276419"
            ]
           ],
           "sequential": [
            [
             0,
             "#0d0887"
            ],
            [
             0.1111111111111111,
             "#46039f"
            ],
            [
             0.2222222222222222,
             "#7201a8"
            ],
            [
             0.3333333333333333,
             "#9c179e"
            ],
            [
             0.4444444444444444,
             "#bd3786"
            ],
            [
             0.5555555555555556,
             "#d8576b"
            ],
            [
             0.6666666666666666,
             "#ed7953"
            ],
            [
             0.7777777777777778,
             "#fb9f3a"
            ],
            [
             0.8888888888888888,
             "#fdca26"
            ],
            [
             1,
             "#f0f921"
            ]
           ],
           "sequentialminus": [
            [
             0,
             "#0d0887"
            ],
            [
             0.1111111111111111,
             "#46039f"
            ],
            [
             0.2222222222222222,
             "#7201a8"
            ],
            [
             0.3333333333333333,
             "#9c179e"
            ],
            [
             0.4444444444444444,
             "#bd3786"
            ],
            [
             0.5555555555555556,
             "#d8576b"
            ],
            [
             0.6666666666666666,
             "#ed7953"
            ],
            [
             0.7777777777777778,
             "#fb9f3a"
            ],
            [
             0.8888888888888888,
             "#fdca26"
            ],
            [
             1,
             "#f0f921"
            ]
           ]
          },
          "colorway": [
           "#636efa",
           "#EF553B",
           "#00cc96",
           "#ab63fa",
           "#FFA15A",
           "#19d3f3",
           "#FF6692",
           "#B6E880",
           "#FF97FF",
           "#FECB52"
          ],
          "font": {
           "color": "#2a3f5f"
          },
          "geo": {
           "bgcolor": "white",
           "lakecolor": "white",
           "landcolor": "#E5ECF6",
           "showlakes": true,
           "showland": true,
           "subunitcolor": "white"
          },
          "hoverlabel": {
           "align": "left"
          },
          "hovermode": "closest",
          "mapbox": {
           "style": "light"
          },
          "paper_bgcolor": "white",
          "plot_bgcolor": "#E5ECF6",
          "polar": {
           "angularaxis": {
            "gridcolor": "white",
            "linecolor": "white",
            "ticks": ""
           },
           "bgcolor": "#E5ECF6",
           "radialaxis": {
            "gridcolor": "white",
            "linecolor": "white",
            "ticks": ""
           }
          },
          "scene": {
           "xaxis": {
            "backgroundcolor": "#E5ECF6",
            "gridcolor": "white",
            "gridwidth": 2,
            "linecolor": "white",
            "showbackground": true,
            "ticks": "",
            "zerolinecolor": "white"
           },
           "yaxis": {
            "backgroundcolor": "#E5ECF6",
            "gridcolor": "white",
            "gridwidth": 2,
            "linecolor": "white",
            "showbackground": true,
            "ticks": "",
            "zerolinecolor": "white"
           },
           "zaxis": {
            "backgroundcolor": "#E5ECF6",
            "gridcolor": "white",
            "gridwidth": 2,
            "linecolor": "white",
            "showbackground": true,
            "ticks": "",
            "zerolinecolor": "white"
           }
          },
          "shapedefaults": {
           "line": {
            "color": "#2a3f5f"
           }
          },
          "ternary": {
           "aaxis": {
            "gridcolor": "white",
            "linecolor": "white",
            "ticks": ""
           },
           "baxis": {
            "gridcolor": "white",
            "linecolor": "white",
            "ticks": ""
           },
           "bgcolor": "#E5ECF6",
           "caxis": {
            "gridcolor": "white",
            "linecolor": "white",
            "ticks": ""
           }
          },
          "title": {
           "x": 0.05
          },
          "xaxis": {
           "automargin": true,
           "gridcolor": "white",
           "linecolor": "white",
           "ticks": "",
           "zerolinecolor": "white",
           "zerolinewidth": 2
          },
          "yaxis": {
           "automargin": true,
           "gridcolor": "white",
           "linecolor": "white",
           "ticks": "",
           "zerolinecolor": "white",
           "zerolinewidth": 2
          }
         }
        }
       }
      },
      "text/html": [
       "<div>\n",
       "        \n",
       "        \n",
       "            <div id=\"4d7f4ca7-cc18-4473-89a0-fd7854fcdd4e\" class=\"plotly-graph-div\" style=\"height:525px; width:100%;\"></div>\n",
       "            <script type=\"text/javascript\">\n",
       "                require([\"plotly\"], function(Plotly) {\n",
       "                    window.PLOTLYENV=window.PLOTLYENV || {};\n",
       "                    \n",
       "                if (document.getElementById(\"4d7f4ca7-cc18-4473-89a0-fd7854fcdd4e\")) {\n",
       "                    Plotly.newPlot(\n",
       "                        '4d7f4ca7-cc18-4473-89a0-fd7854fcdd4e',\n",
       "                        [{\"type\": \"bar\", \"x\": [\"Kincade Fire\", \"Saddle Ridge Fire\", \"Tick Fire\", \"Burris Fire\", \"Sky Fire \"], \"y\": [\"66231 \", \"8799 \", \"4615 \", \"350 \", \"150 \"]}],\n",
       "                        {\"template\": {\"data\": {\"bar\": [{\"error_x\": {\"color\": \"#2a3f5f\"}, \"error_y\": {\"color\": \"#2a3f5f\"}, \"marker\": {\"line\": {\"color\": \"#E5ECF6\", \"width\": 0.5}}, \"type\": \"bar\"}], \"barpolar\": [{\"marker\": {\"line\": {\"color\": \"#E5ECF6\", \"width\": 0.5}}, \"type\": \"barpolar\"}], \"carpet\": [{\"aaxis\": {\"endlinecolor\": \"#2a3f5f\", \"gridcolor\": \"white\", \"linecolor\": \"white\", \"minorgridcolor\": \"white\", \"startlinecolor\": \"#2a3f5f\"}, \"baxis\": {\"endlinecolor\": \"#2a3f5f\", \"gridcolor\": \"white\", \"linecolor\": \"white\", \"minorgridcolor\": \"white\", \"startlinecolor\": \"#2a3f5f\"}, \"type\": \"carpet\"}], \"choropleth\": [{\"colorbar\": {\"outlinewidth\": 0, \"ticks\": \"\"}, \"type\": \"choropleth\"}], \"contour\": [{\"colorbar\": {\"outlinewidth\": 0, \"ticks\": \"\"}, \"colorscale\": [[0.0, \"#0d0887\"], [0.1111111111111111, \"#46039f\"], [0.2222222222222222, \"#7201a8\"], [0.3333333333333333, \"#9c179e\"], [0.4444444444444444, \"#bd3786\"], [0.5555555555555556, \"#d8576b\"], [0.6666666666666666, \"#ed7953\"], [0.7777777777777778, \"#fb9f3a\"], [0.8888888888888888, \"#fdca26\"], [1.0, \"#f0f921\"]], \"type\": \"contour\"}], \"contourcarpet\": [{\"colorbar\": {\"outlinewidth\": 0, \"ticks\": \"\"}, \"type\": \"contourcarpet\"}], \"heatmap\": [{\"colorbar\": {\"outlinewidth\": 0, \"ticks\": \"\"}, \"colorscale\": [[0.0, \"#0d0887\"], [0.1111111111111111, \"#46039f\"], [0.2222222222222222, \"#7201a8\"], [0.3333333333333333, \"#9c179e\"], [0.4444444444444444, \"#bd3786\"], [0.5555555555555556, \"#d8576b\"], [0.6666666666666666, \"#ed7953\"], [0.7777777777777778, \"#fb9f3a\"], [0.8888888888888888, \"#fdca26\"], [1.0, \"#f0f921\"]], \"type\": \"heatmap\"}], \"heatmapgl\": [{\"colorbar\": {\"outlinewidth\": 0, \"ticks\": \"\"}, \"colorscale\": [[0.0, \"#0d0887\"], [0.1111111111111111, \"#46039f\"], [0.2222222222222222, \"#7201a8\"], [0.3333333333333333, \"#9c179e\"], [0.4444444444444444, \"#bd3786\"], [0.5555555555555556, \"#d8576b\"], [0.6666666666666666, \"#ed7953\"], [0.7777777777777778, \"#fb9f3a\"], [0.8888888888888888, \"#fdca26\"], [1.0, \"#f0f921\"]], \"type\": \"heatmapgl\"}], \"histogram\": [{\"marker\": {\"colorbar\": {\"outlinewidth\": 0, \"ticks\": \"\"}}, \"type\": \"histogram\"}], \"histogram2d\": [{\"colorbar\": {\"outlinewidth\": 0, \"ticks\": \"\"}, \"colorscale\": [[0.0, \"#0d0887\"], [0.1111111111111111, \"#46039f\"], [0.2222222222222222, \"#7201a8\"], [0.3333333333333333, \"#9c179e\"], [0.4444444444444444, \"#bd3786\"], [0.5555555555555556, \"#d8576b\"], [0.6666666666666666, \"#ed7953\"], [0.7777777777777778, \"#fb9f3a\"], [0.8888888888888888, \"#fdca26\"], [1.0, \"#f0f921\"]], \"type\": \"histogram2d\"}], \"histogram2dcontour\": [{\"colorbar\": {\"outlinewidth\": 0, \"ticks\": \"\"}, \"colorscale\": [[0.0, \"#0d0887\"], [0.1111111111111111, \"#46039f\"], [0.2222222222222222, \"#7201a8\"], [0.3333333333333333, \"#9c179e\"], [0.4444444444444444, \"#bd3786\"], [0.5555555555555556, \"#d8576b\"], [0.6666666666666666, \"#ed7953\"], [0.7777777777777778, \"#fb9f3a\"], [0.8888888888888888, \"#fdca26\"], [1.0, \"#f0f921\"]], \"type\": \"histogram2dcontour\"}], \"mesh3d\": [{\"colorbar\": {\"outlinewidth\": 0, \"ticks\": \"\"}, \"type\": \"mesh3d\"}], \"parcoords\": [{\"line\": {\"colorbar\": {\"outlinewidth\": 0, \"ticks\": \"\"}}, \"type\": \"parcoords\"}], \"scatter\": [{\"marker\": {\"colorbar\": {\"outlinewidth\": 0, \"ticks\": \"\"}}, \"type\": \"scatter\"}], \"scatter3d\": [{\"line\": {\"colorbar\": {\"outlinewidth\": 0, \"ticks\": \"\"}}, \"marker\": {\"colorbar\": {\"outlinewidth\": 0, \"ticks\": \"\"}}, \"type\": \"scatter3d\"}], \"scattercarpet\": [{\"marker\": {\"colorbar\": {\"outlinewidth\": 0, \"ticks\": \"\"}}, \"type\": \"scattercarpet\"}], \"scattergeo\": [{\"marker\": {\"colorbar\": {\"outlinewidth\": 0, \"ticks\": \"\"}}, \"type\": \"scattergeo\"}], \"scattergl\": [{\"marker\": {\"colorbar\": {\"outlinewidth\": 0, \"ticks\": \"\"}}, \"type\": \"scattergl\"}], \"scattermapbox\": [{\"marker\": {\"colorbar\": {\"outlinewidth\": 0, \"ticks\": \"\"}}, \"type\": \"scattermapbox\"}], \"scatterpolar\": [{\"marker\": {\"colorbar\": {\"outlinewidth\": 0, \"ticks\": \"\"}}, \"type\": \"scatterpolar\"}], \"scatterpolargl\": [{\"marker\": {\"colorbar\": {\"outlinewidth\": 0, \"ticks\": \"\"}}, \"type\": \"scatterpolargl\"}], \"scatterternary\": [{\"marker\": {\"colorbar\": {\"outlinewidth\": 0, \"ticks\": \"\"}}, \"type\": \"scatterternary\"}], \"surface\": [{\"colorbar\": {\"outlinewidth\": 0, \"ticks\": \"\"}, \"colorscale\": [[0.0, \"#0d0887\"], [0.1111111111111111, \"#46039f\"], [0.2222222222222222, \"#7201a8\"], [0.3333333333333333, \"#9c179e\"], [0.4444444444444444, \"#bd3786\"], [0.5555555555555556, \"#d8576b\"], [0.6666666666666666, \"#ed7953\"], [0.7777777777777778, \"#fb9f3a\"], [0.8888888888888888, \"#fdca26\"], [1.0, \"#f0f921\"]], \"type\": \"surface\"}], \"table\": [{\"cells\": {\"fill\": {\"color\": \"#EBF0F8\"}, \"line\": {\"color\": \"white\"}}, \"header\": {\"fill\": {\"color\": \"#C8D4E3\"}, \"line\": {\"color\": \"white\"}}, \"type\": \"table\"}]}, \"layout\": {\"annotationdefaults\": {\"arrowcolor\": \"#2a3f5f\", \"arrowhead\": 0, \"arrowwidth\": 1}, \"colorscale\": {\"diverging\": [[0, \"#8e0152\"], [0.1, \"#c51b7d\"], [0.2, \"#de77ae\"], [0.3, \"#f1b6da\"], [0.4, \"#fde0ef\"], [0.5, \"#f7f7f7\"], [0.6, \"#e6f5d0\"], [0.7, \"#b8e186\"], [0.8, \"#7fbc41\"], [0.9, \"#4d9221\"], [1, \"#276419\"]], \"sequential\": [[0.0, \"#0d0887\"], [0.1111111111111111, \"#46039f\"], [0.2222222222222222, \"#7201a8\"], [0.3333333333333333, \"#9c179e\"], [0.4444444444444444, \"#bd3786\"], [0.5555555555555556, \"#d8576b\"], [0.6666666666666666, \"#ed7953\"], [0.7777777777777778, \"#fb9f3a\"], [0.8888888888888888, \"#fdca26\"], [1.0, \"#f0f921\"]], \"sequentialminus\": [[0.0, \"#0d0887\"], [0.1111111111111111, \"#46039f\"], [0.2222222222222222, \"#7201a8\"], [0.3333333333333333, \"#9c179e\"], [0.4444444444444444, \"#bd3786\"], [0.5555555555555556, \"#d8576b\"], [0.6666666666666666, \"#ed7953\"], [0.7777777777777778, \"#fb9f3a\"], [0.8888888888888888, \"#fdca26\"], [1.0, \"#f0f921\"]]}, \"colorway\": [\"#636efa\", \"#EF553B\", \"#00cc96\", \"#ab63fa\", \"#FFA15A\", \"#19d3f3\", \"#FF6692\", \"#B6E880\", \"#FF97FF\", \"#FECB52\"], \"font\": {\"color\": \"#2a3f5f\"}, \"geo\": {\"bgcolor\": \"white\", \"lakecolor\": \"white\", \"landcolor\": \"#E5ECF6\", \"showlakes\": true, \"showland\": true, \"subunitcolor\": \"white\"}, \"hoverlabel\": {\"align\": \"left\"}, \"hovermode\": \"closest\", \"mapbox\": {\"style\": \"light\"}, \"paper_bgcolor\": \"white\", \"plot_bgcolor\": \"#E5ECF6\", \"polar\": {\"angularaxis\": {\"gridcolor\": \"white\", \"linecolor\": \"white\", \"ticks\": \"\"}, \"bgcolor\": \"#E5ECF6\", \"radialaxis\": {\"gridcolor\": \"white\", \"linecolor\": \"white\", \"ticks\": \"\"}}, \"scene\": {\"xaxis\": {\"backgroundcolor\": \"#E5ECF6\", \"gridcolor\": \"white\", \"gridwidth\": 2, \"linecolor\": \"white\", \"showbackground\": true, \"ticks\": \"\", \"zerolinecolor\": \"white\"}, \"yaxis\": {\"backgroundcolor\": \"#E5ECF6\", \"gridcolor\": \"white\", \"gridwidth\": 2, \"linecolor\": \"white\", \"showbackground\": true, \"ticks\": \"\", \"zerolinecolor\": \"white\"}, \"zaxis\": {\"backgroundcolor\": \"#E5ECF6\", \"gridcolor\": \"white\", \"gridwidth\": 2, \"linecolor\": \"white\", \"showbackground\": true, \"ticks\": \"\", \"zerolinecolor\": \"white\"}}, \"shapedefaults\": {\"line\": {\"color\": \"#2a3f5f\"}}, \"ternary\": {\"aaxis\": {\"gridcolor\": \"white\", \"linecolor\": \"white\", \"ticks\": \"\"}, \"baxis\": {\"gridcolor\": \"white\", \"linecolor\": \"white\", \"ticks\": \"\"}, \"bgcolor\": \"#E5ECF6\", \"caxis\": {\"gridcolor\": \"white\", \"linecolor\": \"white\", \"ticks\": \"\"}}, \"title\": {\"x\": 0.05}, \"xaxis\": {\"automargin\": true, \"gridcolor\": \"white\", \"linecolor\": \"white\", \"ticks\": \"\", \"zerolinecolor\": \"white\", \"zerolinewidth\": 2}, \"yaxis\": {\"automargin\": true, \"gridcolor\": \"white\", \"linecolor\": \"white\", \"ticks\": \"\", \"zerolinecolor\": \"white\", \"zerolinewidth\": 2}}}},\n",
       "                        {\"responsive\": true}\n",
       "                    ).then(function(){\n",
       "                            \n",
       "var gd = document.getElementById('4d7f4ca7-cc18-4473-89a0-fd7854fcdd4e');\n",
       "var x = new MutationObserver(function (mutations, observer) {{\n",
       "        var display = window.getComputedStyle(gd).display;\n",
       "        if (!display || display === 'none') {{\n",
       "            console.log([gd, 'removed!']);\n",
       "            Plotly.purge(gd);\n",
       "            observer.disconnect();\n",
       "        }}\n",
       "}});\n",
       "\n",
       "// Listen for the removal of the full notebook cells\n",
       "var notebookContainer = gd.closest('#notebook-container');\n",
       "if (notebookContainer) {{\n",
       "    x.observe(notebookContainer, {childList: true});\n",
       "}}\n",
       "\n",
       "// Listen for the clearing of the current output cell\n",
       "var outputEl = gd.closest('.output');\n",
       "if (outputEl) {{\n",
       "    x.observe(outputEl, {childList: true});\n",
       "}}\n",
       "\n",
       "                        })\n",
       "                };\n",
       "                });\n",
       "            </script>\n",
       "        </div>"
      ]
     },
     "metadata": {},
     "output_type": "display_data"
    }
   ],
   "source": [
    "import plotly.graph_objects as go\n",
    "fig = go.Figure(data=go.Bar(x=df['name'][:5], y=df['acres'][:5]))\n",
    "fig.show()"
   ]
  },
  {
   "cell_type": "code",
   "execution_count": 47,
   "metadata": {},
   "outputs": [
    {
     "data": {
      "application/vnd.plotly.v1+json": {
       "config": {
        "plotlyServerURL": "https://plot.ly"
       },
       "data": [
        {
         "type": "bar",
         "x": [
          "Kincade Fire",
          "Saddle Ridge Fire",
          "Tick Fire",
          "Burris Fire",
          "Sky Fire "
         ],
         "y": [
          " 5",
          " 97",
          " 70",
          " 20",
          " 90"
         ]
        }
       ],
       "layout": {
        "template": {
         "data": {
          "bar": [
           {
            "error_x": {
             "color": "#2a3f5f"
            },
            "error_y": {
             "color": "#2a3f5f"
            },
            "marker": {
             "line": {
              "color": "#E5ECF6",
              "width": 0.5
             }
            },
            "type": "bar"
           }
          ],
          "barpolar": [
           {
            "marker": {
             "line": {
              "color": "#E5ECF6",
              "width": 0.5
             }
            },
            "type": "barpolar"
           }
          ],
          "carpet": [
           {
            "aaxis": {
             "endlinecolor": "#2a3f5f",
             "gridcolor": "white",
             "linecolor": "white",
             "minorgridcolor": "white",
             "startlinecolor": "#2a3f5f"
            },
            "baxis": {
             "endlinecolor": "#2a3f5f",
             "gridcolor": "white",
             "linecolor": "white",
             "minorgridcolor": "white",
             "startlinecolor": "#2a3f5f"
            },
            "type": "carpet"
           }
          ],
          "choropleth": [
           {
            "colorbar": {
             "outlinewidth": 0,
             "ticks": ""
            },
            "type": "choropleth"
           }
          ],
          "contour": [
           {
            "colorbar": {
             "outlinewidth": 0,
             "ticks": ""
            },
            "colorscale": [
             [
              0,
              "#0d0887"
             ],
             [
              0.1111111111111111,
              "#46039f"
             ],
             [
              0.2222222222222222,
              "#7201a8"
             ],
             [
              0.3333333333333333,
              "#9c179e"
             ],
             [
              0.4444444444444444,
              "#bd3786"
             ],
             [
              0.5555555555555556,
              "#d8576b"
             ],
             [
              0.6666666666666666,
              "#ed7953"
             ],
             [
              0.7777777777777778,
              "#fb9f3a"
             ],
             [
              0.8888888888888888,
              "#fdca26"
             ],
             [
              1,
              "#f0f921"
             ]
            ],
            "type": "contour"
           }
          ],
          "contourcarpet": [
           {
            "colorbar": {
             "outlinewidth": 0,
             "ticks": ""
            },
            "type": "contourcarpet"
           }
          ],
          "heatmap": [
           {
            "colorbar": {
             "outlinewidth": 0,
             "ticks": ""
            },
            "colorscale": [
             [
              0,
              "#0d0887"
             ],
             [
              0.1111111111111111,
              "#46039f"
             ],
             [
              0.2222222222222222,
              "#7201a8"
             ],
             [
              0.3333333333333333,
              "#9c179e"
             ],
             [
              0.4444444444444444,
              "#bd3786"
             ],
             [
              0.5555555555555556,
              "#d8576b"
             ],
             [
              0.6666666666666666,
              "#ed7953"
             ],
             [
              0.7777777777777778,
              "#fb9f3a"
             ],
             [
              0.8888888888888888,
              "#fdca26"
             ],
             [
              1,
              "#f0f921"
             ]
            ],
            "type": "heatmap"
           }
          ],
          "heatmapgl": [
           {
            "colorbar": {
             "outlinewidth": 0,
             "ticks": ""
            },
            "colorscale": [
             [
              0,
              "#0d0887"
             ],
             [
              0.1111111111111111,
              "#46039f"
             ],
             [
              0.2222222222222222,
              "#7201a8"
             ],
             [
              0.3333333333333333,
              "#9c179e"
             ],
             [
              0.4444444444444444,
              "#bd3786"
             ],
             [
              0.5555555555555556,
              "#d8576b"
             ],
             [
              0.6666666666666666,
              "#ed7953"
             ],
             [
              0.7777777777777778,
              "#fb9f3a"
             ],
             [
              0.8888888888888888,
              "#fdca26"
             ],
             [
              1,
              "#f0f921"
             ]
            ],
            "type": "heatmapgl"
           }
          ],
          "histogram": [
           {
            "marker": {
             "colorbar": {
              "outlinewidth": 0,
              "ticks": ""
             }
            },
            "type": "histogram"
           }
          ],
          "histogram2d": [
           {
            "colorbar": {
             "outlinewidth": 0,
             "ticks": ""
            },
            "colorscale": [
             [
              0,
              "#0d0887"
             ],
             [
              0.1111111111111111,
              "#46039f"
             ],
             [
              0.2222222222222222,
              "#7201a8"
             ],
             [
              0.3333333333333333,
              "#9c179e"
             ],
             [
              0.4444444444444444,
              "#bd3786"
             ],
             [
              0.5555555555555556,
              "#d8576b"
             ],
             [
              0.6666666666666666,
              "#ed7953"
             ],
             [
              0.7777777777777778,
              "#fb9f3a"
             ],
             [
              0.8888888888888888,
              "#fdca26"
             ],
             [
              1,
              "#f0f921"
             ]
            ],
            "type": "histogram2d"
           }
          ],
          "histogram2dcontour": [
           {
            "colorbar": {
             "outlinewidth": 0,
             "ticks": ""
            },
            "colorscale": [
             [
              0,
              "#0d0887"
             ],
             [
              0.1111111111111111,
              "#46039f"
             ],
             [
              0.2222222222222222,
              "#7201a8"
             ],
             [
              0.3333333333333333,
              "#9c179e"
             ],
             [
              0.4444444444444444,
              "#bd3786"
             ],
             [
              0.5555555555555556,
              "#d8576b"
             ],
             [
              0.6666666666666666,
              "#ed7953"
             ],
             [
              0.7777777777777778,
              "#fb9f3a"
             ],
             [
              0.8888888888888888,
              "#fdca26"
             ],
             [
              1,
              "#f0f921"
             ]
            ],
            "type": "histogram2dcontour"
           }
          ],
          "mesh3d": [
           {
            "colorbar": {
             "outlinewidth": 0,
             "ticks": ""
            },
            "type": "mesh3d"
           }
          ],
          "parcoords": [
           {
            "line": {
             "colorbar": {
              "outlinewidth": 0,
              "ticks": ""
             }
            },
            "type": "parcoords"
           }
          ],
          "scatter": [
           {
            "marker": {
             "colorbar": {
              "outlinewidth": 0,
              "ticks": ""
             }
            },
            "type": "scatter"
           }
          ],
          "scatter3d": [
           {
            "line": {
             "colorbar": {
              "outlinewidth": 0,
              "ticks": ""
             }
            },
            "marker": {
             "colorbar": {
              "outlinewidth": 0,
              "ticks": ""
             }
            },
            "type": "scatter3d"
           }
          ],
          "scattercarpet": [
           {
            "marker": {
             "colorbar": {
              "outlinewidth": 0,
              "ticks": ""
             }
            },
            "type": "scattercarpet"
           }
          ],
          "scattergeo": [
           {
            "marker": {
             "colorbar": {
              "outlinewidth": 0,
              "ticks": ""
             }
            },
            "type": "scattergeo"
           }
          ],
          "scattergl": [
           {
            "marker": {
             "colorbar": {
              "outlinewidth": 0,
              "ticks": ""
             }
            },
            "type": "scattergl"
           }
          ],
          "scattermapbox": [
           {
            "marker": {
             "colorbar": {
              "outlinewidth": 0,
              "ticks": ""
             }
            },
            "type": "scattermapbox"
           }
          ],
          "scatterpolar": [
           {
            "marker": {
             "colorbar": {
              "outlinewidth": 0,
              "ticks": ""
             }
            },
            "type": "scatterpolar"
           }
          ],
          "scatterpolargl": [
           {
            "marker": {
             "colorbar": {
              "outlinewidth": 0,
              "ticks": ""
             }
            },
            "type": "scatterpolargl"
           }
          ],
          "scatterternary": [
           {
            "marker": {
             "colorbar": {
              "outlinewidth": 0,
              "ticks": ""
             }
            },
            "type": "scatterternary"
           }
          ],
          "surface": [
           {
            "colorbar": {
             "outlinewidth": 0,
             "ticks": ""
            },
            "colorscale": [
             [
              0,
              "#0d0887"
             ],
             [
              0.1111111111111111,
              "#46039f"
             ],
             [
              0.2222222222222222,
              "#7201a8"
             ],
             [
              0.3333333333333333,
              "#9c179e"
             ],
             [
              0.4444444444444444,
              "#bd3786"
             ],
             [
              0.5555555555555556,
              "#d8576b"
             ],
             [
              0.6666666666666666,
              "#ed7953"
             ],
             [
              0.7777777777777778,
              "#fb9f3a"
             ],
             [
              0.8888888888888888,
              "#fdca26"
             ],
             [
              1,
              "#f0f921"
             ]
            ],
            "type": "surface"
           }
          ],
          "table": [
           {
            "cells": {
             "fill": {
              "color": "#EBF0F8"
             },
             "line": {
              "color": "white"
             }
            },
            "header": {
             "fill": {
              "color": "#C8D4E3"
             },
             "line": {
              "color": "white"
             }
            },
            "type": "table"
           }
          ]
         },
         "layout": {
          "annotationdefaults": {
           "arrowcolor": "#2a3f5f",
           "arrowhead": 0,
           "arrowwidth": 1
          },
          "colorscale": {
           "diverging": [
            [
             0,
             "#8e0152"
            ],
            [
             0.1,
             "#c51b7d"
            ],
            [
             0.2,
             "#de77ae"
            ],
            [
             0.3,
             "#f1b6da"
            ],
            [
             0.4,
             "#fde0ef"
            ],
            [
             0.5,
             "#f7f7f7"
            ],
            [
             0.6,
             "#e6f5d0"
            ],
            [
             0.7,
             "#b8e186"
            ],
            [
             0.8,
             "#7fbc41"
            ],
            [
             0.9,
             "#4d9221"
            ],
            [
             1,
             "#276419"
            ]
           ],
           "sequential": [
            [
             0,
             "#0d0887"
            ],
            [
             0.1111111111111111,
             "#46039f"
            ],
            [
             0.2222222222222222,
             "#7201a8"
            ],
            [
             0.3333333333333333,
             "#9c179e"
            ],
            [
             0.4444444444444444,
             "#bd3786"
            ],
            [
             0.5555555555555556,
             "#d8576b"
            ],
            [
             0.6666666666666666,
             "#ed7953"
            ],
            [
             0.7777777777777778,
             "#fb9f3a"
            ],
            [
             0.8888888888888888,
             "#fdca26"
            ],
            [
             1,
             "#f0f921"
            ]
           ],
           "sequentialminus": [
            [
             0,
             "#0d0887"
            ],
            [
             0.1111111111111111,
             "#46039f"
            ],
            [
             0.2222222222222222,
             "#7201a8"
            ],
            [
             0.3333333333333333,
             "#9c179e"
            ],
            [
             0.4444444444444444,
             "#bd3786"
            ],
            [
             0.5555555555555556,
             "#d8576b"
            ],
            [
             0.6666666666666666,
             "#ed7953"
            ],
            [
             0.7777777777777778,
             "#fb9f3a"
            ],
            [
             0.8888888888888888,
             "#fdca26"
            ],
            [
             1,
             "#f0f921"
            ]
           ]
          },
          "colorway": [
           "#636efa",
           "#EF553B",
           "#00cc96",
           "#ab63fa",
           "#FFA15A",
           "#19d3f3",
           "#FF6692",
           "#B6E880",
           "#FF97FF",
           "#FECB52"
          ],
          "font": {
           "color": "#2a3f5f"
          },
          "geo": {
           "bgcolor": "white",
           "lakecolor": "white",
           "landcolor": "#E5ECF6",
           "showlakes": true,
           "showland": true,
           "subunitcolor": "white"
          },
          "hoverlabel": {
           "align": "left"
          },
          "hovermode": "closest",
          "mapbox": {
           "style": "light"
          },
          "paper_bgcolor": "white",
          "plot_bgcolor": "#E5ECF6",
          "polar": {
           "angularaxis": {
            "gridcolor": "white",
            "linecolor": "white",
            "ticks": ""
           },
           "bgcolor": "#E5ECF6",
           "radialaxis": {
            "gridcolor": "white",
            "linecolor": "white",
            "ticks": ""
           }
          },
          "scene": {
           "xaxis": {
            "backgroundcolor": "#E5ECF6",
            "gridcolor": "white",
            "gridwidth": 2,
            "linecolor": "white",
            "showbackground": true,
            "ticks": "",
            "zerolinecolor": "white"
           },
           "yaxis": {
            "backgroundcolor": "#E5ECF6",
            "gridcolor": "white",
            "gridwidth": 2,
            "linecolor": "white",
            "showbackground": true,
            "ticks": "",
            "zerolinecolor": "white"
           },
           "zaxis": {
            "backgroundcolor": "#E5ECF6",
            "gridcolor": "white",
            "gridwidth": 2,
            "linecolor": "white",
            "showbackground": true,
            "ticks": "",
            "zerolinecolor": "white"
           }
          },
          "shapedefaults": {
           "line": {
            "color": "#2a3f5f"
           }
          },
          "ternary": {
           "aaxis": {
            "gridcolor": "white",
            "linecolor": "white",
            "ticks": ""
           },
           "baxis": {
            "gridcolor": "white",
            "linecolor": "white",
            "ticks": ""
           },
           "bgcolor": "#E5ECF6",
           "caxis": {
            "gridcolor": "white",
            "linecolor": "white",
            "ticks": ""
           }
          },
          "title": {
           "x": 0.05
          },
          "xaxis": {
           "automargin": true,
           "gridcolor": "white",
           "linecolor": "white",
           "ticks": "",
           "zerolinecolor": "white",
           "zerolinewidth": 2
          },
          "yaxis": {
           "automargin": true,
           "gridcolor": "white",
           "linecolor": "white",
           "ticks": "",
           "zerolinecolor": "white",
           "zerolinewidth": 2
          }
         }
        }
       }
      },
      "text/html": [
       "<div>\n",
       "        \n",
       "        \n",
       "            <div id=\"b4b97629-2150-4629-8c2d-caef2ba282b9\" class=\"plotly-graph-div\" style=\"height:525px; width:100%;\"></div>\n",
       "            <script type=\"text/javascript\">\n",
       "                require([\"plotly\"], function(Plotly) {\n",
       "                    window.PLOTLYENV=window.PLOTLYENV || {};\n",
       "                    \n",
       "                if (document.getElementById(\"b4b97629-2150-4629-8c2d-caef2ba282b9\")) {\n",
       "                    Plotly.newPlot(\n",
       "                        'b4b97629-2150-4629-8c2d-caef2ba282b9',\n",
       "                        [{\"type\": \"bar\", \"x\": [\"Kincade Fire\", \"Saddle Ridge Fire\", \"Tick Fire\", \"Burris Fire\", \"Sky Fire \"], \"y\": [\" 5\", \" 97\", \" 70\", \" 20\", \" 90\"]}],\n",
       "                        {\"template\": {\"data\": {\"bar\": [{\"error_x\": {\"color\": \"#2a3f5f\"}, \"error_y\": {\"color\": \"#2a3f5f\"}, \"marker\": {\"line\": {\"color\": \"#E5ECF6\", \"width\": 0.5}}, \"type\": \"bar\"}], \"barpolar\": [{\"marker\": {\"line\": {\"color\": \"#E5ECF6\", \"width\": 0.5}}, \"type\": \"barpolar\"}], \"carpet\": [{\"aaxis\": {\"endlinecolor\": \"#2a3f5f\", \"gridcolor\": \"white\", \"linecolor\": \"white\", \"minorgridcolor\": \"white\", \"startlinecolor\": \"#2a3f5f\"}, \"baxis\": {\"endlinecolor\": \"#2a3f5f\", \"gridcolor\": \"white\", \"linecolor\": \"white\", \"minorgridcolor\": \"white\", \"startlinecolor\": \"#2a3f5f\"}, \"type\": \"carpet\"}], \"choropleth\": [{\"colorbar\": {\"outlinewidth\": 0, \"ticks\": \"\"}, \"type\": \"choropleth\"}], \"contour\": [{\"colorbar\": {\"outlinewidth\": 0, \"ticks\": \"\"}, \"colorscale\": [[0.0, \"#0d0887\"], [0.1111111111111111, \"#46039f\"], [0.2222222222222222, \"#7201a8\"], [0.3333333333333333, \"#9c179e\"], [0.4444444444444444, \"#bd3786\"], [0.5555555555555556, \"#d8576b\"], [0.6666666666666666, \"#ed7953\"], [0.7777777777777778, \"#fb9f3a\"], [0.8888888888888888, \"#fdca26\"], [1.0, \"#f0f921\"]], \"type\": \"contour\"}], \"contourcarpet\": [{\"colorbar\": {\"outlinewidth\": 0, \"ticks\": \"\"}, \"type\": \"contourcarpet\"}], \"heatmap\": [{\"colorbar\": {\"outlinewidth\": 0, \"ticks\": \"\"}, \"colorscale\": [[0.0, \"#0d0887\"], [0.1111111111111111, \"#46039f\"], [0.2222222222222222, \"#7201a8\"], [0.3333333333333333, \"#9c179e\"], [0.4444444444444444, \"#bd3786\"], [0.5555555555555556, \"#d8576b\"], [0.6666666666666666, \"#ed7953\"], [0.7777777777777778, \"#fb9f3a\"], [0.8888888888888888, \"#fdca26\"], [1.0, \"#f0f921\"]], \"type\": \"heatmap\"}], \"heatmapgl\": [{\"colorbar\": {\"outlinewidth\": 0, \"ticks\": \"\"}, \"colorscale\": [[0.0, \"#0d0887\"], [0.1111111111111111, \"#46039f\"], [0.2222222222222222, \"#7201a8\"], [0.3333333333333333, \"#9c179e\"], [0.4444444444444444, \"#bd3786\"], [0.5555555555555556, \"#d8576b\"], [0.6666666666666666, \"#ed7953\"], [0.7777777777777778, \"#fb9f3a\"], [0.8888888888888888, \"#fdca26\"], [1.0, \"#f0f921\"]], \"type\": \"heatmapgl\"}], \"histogram\": [{\"marker\": {\"colorbar\": {\"outlinewidth\": 0, \"ticks\": \"\"}}, \"type\": \"histogram\"}], \"histogram2d\": [{\"colorbar\": {\"outlinewidth\": 0, \"ticks\": \"\"}, \"colorscale\": [[0.0, \"#0d0887\"], [0.1111111111111111, \"#46039f\"], [0.2222222222222222, \"#7201a8\"], [0.3333333333333333, \"#9c179e\"], [0.4444444444444444, \"#bd3786\"], [0.5555555555555556, \"#d8576b\"], [0.6666666666666666, \"#ed7953\"], [0.7777777777777778, \"#fb9f3a\"], [0.8888888888888888, \"#fdca26\"], [1.0, \"#f0f921\"]], \"type\": \"histogram2d\"}], \"histogram2dcontour\": [{\"colorbar\": {\"outlinewidth\": 0, \"ticks\": \"\"}, \"colorscale\": [[0.0, \"#0d0887\"], [0.1111111111111111, \"#46039f\"], [0.2222222222222222, \"#7201a8\"], [0.3333333333333333, \"#9c179e\"], [0.4444444444444444, \"#bd3786\"], [0.5555555555555556, \"#d8576b\"], [0.6666666666666666, \"#ed7953\"], [0.7777777777777778, \"#fb9f3a\"], [0.8888888888888888, \"#fdca26\"], [1.0, \"#f0f921\"]], \"type\": \"histogram2dcontour\"}], \"mesh3d\": [{\"colorbar\": {\"outlinewidth\": 0, \"ticks\": \"\"}, \"type\": \"mesh3d\"}], \"parcoords\": [{\"line\": {\"colorbar\": {\"outlinewidth\": 0, \"ticks\": \"\"}}, \"type\": \"parcoords\"}], \"scatter\": [{\"marker\": {\"colorbar\": {\"outlinewidth\": 0, \"ticks\": \"\"}}, \"type\": \"scatter\"}], \"scatter3d\": [{\"line\": {\"colorbar\": {\"outlinewidth\": 0, \"ticks\": \"\"}}, \"marker\": {\"colorbar\": {\"outlinewidth\": 0, \"ticks\": \"\"}}, \"type\": \"scatter3d\"}], \"scattercarpet\": [{\"marker\": {\"colorbar\": {\"outlinewidth\": 0, \"ticks\": \"\"}}, \"type\": \"scattercarpet\"}], \"scattergeo\": [{\"marker\": {\"colorbar\": {\"outlinewidth\": 0, \"ticks\": \"\"}}, \"type\": \"scattergeo\"}], \"scattergl\": [{\"marker\": {\"colorbar\": {\"outlinewidth\": 0, \"ticks\": \"\"}}, \"type\": \"scattergl\"}], \"scattermapbox\": [{\"marker\": {\"colorbar\": {\"outlinewidth\": 0, \"ticks\": \"\"}}, \"type\": \"scattermapbox\"}], \"scatterpolar\": [{\"marker\": {\"colorbar\": {\"outlinewidth\": 0, \"ticks\": \"\"}}, \"type\": \"scatterpolar\"}], \"scatterpolargl\": [{\"marker\": {\"colorbar\": {\"outlinewidth\": 0, \"ticks\": \"\"}}, \"type\": \"scatterpolargl\"}], \"scatterternary\": [{\"marker\": {\"colorbar\": {\"outlinewidth\": 0, \"ticks\": \"\"}}, \"type\": \"scatterternary\"}], \"surface\": [{\"colorbar\": {\"outlinewidth\": 0, \"ticks\": \"\"}, \"colorscale\": [[0.0, \"#0d0887\"], [0.1111111111111111, \"#46039f\"], [0.2222222222222222, \"#7201a8\"], [0.3333333333333333, \"#9c179e\"], [0.4444444444444444, \"#bd3786\"], [0.5555555555555556, \"#d8576b\"], [0.6666666666666666, \"#ed7953\"], [0.7777777777777778, \"#fb9f3a\"], [0.8888888888888888, \"#fdca26\"], [1.0, \"#f0f921\"]], \"type\": \"surface\"}], \"table\": [{\"cells\": {\"fill\": {\"color\": \"#EBF0F8\"}, \"line\": {\"color\": \"white\"}}, \"header\": {\"fill\": {\"color\": \"#C8D4E3\"}, \"line\": {\"color\": \"white\"}}, \"type\": \"table\"}]}, \"layout\": {\"annotationdefaults\": {\"arrowcolor\": \"#2a3f5f\", \"arrowhead\": 0, \"arrowwidth\": 1}, \"colorscale\": {\"diverging\": [[0, \"#8e0152\"], [0.1, \"#c51b7d\"], [0.2, \"#de77ae\"], [0.3, \"#f1b6da\"], [0.4, \"#fde0ef\"], [0.5, \"#f7f7f7\"], [0.6, \"#e6f5d0\"], [0.7, \"#b8e186\"], [0.8, \"#7fbc41\"], [0.9, \"#4d9221\"], [1, \"#276419\"]], \"sequential\": [[0.0, \"#0d0887\"], [0.1111111111111111, \"#46039f\"], [0.2222222222222222, \"#7201a8\"], [0.3333333333333333, \"#9c179e\"], [0.4444444444444444, \"#bd3786\"], [0.5555555555555556, \"#d8576b\"], [0.6666666666666666, \"#ed7953\"], [0.7777777777777778, \"#fb9f3a\"], [0.8888888888888888, \"#fdca26\"], [1.0, \"#f0f921\"]], \"sequentialminus\": [[0.0, \"#0d0887\"], [0.1111111111111111, \"#46039f\"], [0.2222222222222222, \"#7201a8\"], [0.3333333333333333, \"#9c179e\"], [0.4444444444444444, \"#bd3786\"], [0.5555555555555556, \"#d8576b\"], [0.6666666666666666, \"#ed7953\"], [0.7777777777777778, \"#fb9f3a\"], [0.8888888888888888, \"#fdca26\"], [1.0, \"#f0f921\"]]}, \"colorway\": [\"#636efa\", \"#EF553B\", \"#00cc96\", \"#ab63fa\", \"#FFA15A\", \"#19d3f3\", \"#FF6692\", \"#B6E880\", \"#FF97FF\", \"#FECB52\"], \"font\": {\"color\": \"#2a3f5f\"}, \"geo\": {\"bgcolor\": \"white\", \"lakecolor\": \"white\", \"landcolor\": \"#E5ECF6\", \"showlakes\": true, \"showland\": true, \"subunitcolor\": \"white\"}, \"hoverlabel\": {\"align\": \"left\"}, \"hovermode\": \"closest\", \"mapbox\": {\"style\": \"light\"}, \"paper_bgcolor\": \"white\", \"plot_bgcolor\": \"#E5ECF6\", \"polar\": {\"angularaxis\": {\"gridcolor\": \"white\", \"linecolor\": \"white\", \"ticks\": \"\"}, \"bgcolor\": \"#E5ECF6\", \"radialaxis\": {\"gridcolor\": \"white\", \"linecolor\": \"white\", \"ticks\": \"\"}}, \"scene\": {\"xaxis\": {\"backgroundcolor\": \"#E5ECF6\", \"gridcolor\": \"white\", \"gridwidth\": 2, \"linecolor\": \"white\", \"showbackground\": true, \"ticks\": \"\", \"zerolinecolor\": \"white\"}, \"yaxis\": {\"backgroundcolor\": \"#E5ECF6\", \"gridcolor\": \"white\", \"gridwidth\": 2, \"linecolor\": \"white\", \"showbackground\": true, \"ticks\": \"\", \"zerolinecolor\": \"white\"}, \"zaxis\": {\"backgroundcolor\": \"#E5ECF6\", \"gridcolor\": \"white\", \"gridwidth\": 2, \"linecolor\": \"white\", \"showbackground\": true, \"ticks\": \"\", \"zerolinecolor\": \"white\"}}, \"shapedefaults\": {\"line\": {\"color\": \"#2a3f5f\"}}, \"ternary\": {\"aaxis\": {\"gridcolor\": \"white\", \"linecolor\": \"white\", \"ticks\": \"\"}, \"baxis\": {\"gridcolor\": \"white\", \"linecolor\": \"white\", \"ticks\": \"\"}, \"bgcolor\": \"#E5ECF6\", \"caxis\": {\"gridcolor\": \"white\", \"linecolor\": \"white\", \"ticks\": \"\"}}, \"title\": {\"x\": 0.05}, \"xaxis\": {\"automargin\": true, \"gridcolor\": \"white\", \"linecolor\": \"white\", \"ticks\": \"\", \"zerolinecolor\": \"white\", \"zerolinewidth\": 2}, \"yaxis\": {\"automargin\": true, \"gridcolor\": \"white\", \"linecolor\": \"white\", \"ticks\": \"\", \"zerolinecolor\": \"white\", \"zerolinewidth\": 2}}}},\n",
       "                        {\"responsive\": true}\n",
       "                    ).then(function(){\n",
       "                            \n",
       "var gd = document.getElementById('b4b97629-2150-4629-8c2d-caef2ba282b9');\n",
       "var x = new MutationObserver(function (mutations, observer) {{\n",
       "        var display = window.getComputedStyle(gd).display;\n",
       "        if (!display || display === 'none') {{\n",
       "            console.log([gd, 'removed!']);\n",
       "            Plotly.purge(gd);\n",
       "            observer.disconnect();\n",
       "        }}\n",
       "}});\n",
       "\n",
       "// Listen for the removal of the full notebook cells\n",
       "var notebookContainer = gd.closest('#notebook-container');\n",
       "if (notebookContainer) {{\n",
       "    x.observe(notebookContainer, {childList: true});\n",
       "}}\n",
       "\n",
       "// Listen for the clearing of the current output cell\n",
       "var outputEl = gd.closest('.output');\n",
       "if (outputEl) {{\n",
       "    x.observe(outputEl, {childList: true});\n",
       "}}\n",
       "\n",
       "                        })\n",
       "                };\n",
       "                });\n",
       "            </script>\n",
       "        </div>"
      ]
     },
     "metadata": {},
     "output_type": "display_data"
    }
   ],
   "source": [
    "fig = go.Figure(data=go.Bar(x=df['name'][:5], y=df['%_numeric'][:5]))\n",
    "fig.show()"
   ]
  },
  {
   "cell_type": "code",
   "execution_count": 73,
   "metadata": {},
   "outputs": [],
   "source": [
    "x=df['name'][:5] \n",
    "y=df['%_numeric'][:5]\n",
    "y2=df['acres'][:5]"
   ]
  },
  {
   "cell_type": "code",
   "execution_count": 88,
   "metadata": {},
   "outputs": [
    {
     "data": {
      "application/vnd.plotly.v1+json": {
       "config": {
        "plotlyServerURL": "https://plot.ly"
       },
       "data": [
        {
         "marker": {
          "color": "rgb(158,202,225)",
          "line": {
           "color": "rgb(8,48,107)",
           "width": 1.5
          }
         },
         "opacity": 0.6,
         "text": [
          " 5",
          " 97",
          " 70",
          " 20",
          " 90"
         ],
         "textposition": "auto",
         "type": "bar",
         "x": [
          "Kincade Fire",
          "Saddle Ridge Fire",
          "Tick Fire",
          "Burris Fire",
          "Sky Fire "
         ],
         "y": [
          " 5",
          " 97",
          " 70",
          " 20",
          " 90"
         ]
        }
       ],
       "layout": {
        "template": {
         "data": {
          "bar": [
           {
            "error_x": {
             "color": "#2a3f5f"
            },
            "error_y": {
             "color": "#2a3f5f"
            },
            "marker": {
             "line": {
              "color": "#E5ECF6",
              "width": 0.5
             }
            },
            "type": "bar"
           }
          ],
          "barpolar": [
           {
            "marker": {
             "line": {
              "color": "#E5ECF6",
              "width": 0.5
             }
            },
            "type": "barpolar"
           }
          ],
          "carpet": [
           {
            "aaxis": {
             "endlinecolor": "#2a3f5f",
             "gridcolor": "white",
             "linecolor": "white",
             "minorgridcolor": "white",
             "startlinecolor": "#2a3f5f"
            },
            "baxis": {
             "endlinecolor": "#2a3f5f",
             "gridcolor": "white",
             "linecolor": "white",
             "minorgridcolor": "white",
             "startlinecolor": "#2a3f5f"
            },
            "type": "carpet"
           }
          ],
          "choropleth": [
           {
            "colorbar": {
             "outlinewidth": 0,
             "ticks": ""
            },
            "type": "choropleth"
           }
          ],
          "contour": [
           {
            "colorbar": {
             "outlinewidth": 0,
             "ticks": ""
            },
            "colorscale": [
             [
              0,
              "#0d0887"
             ],
             [
              0.1111111111111111,
              "#46039f"
             ],
             [
              0.2222222222222222,
              "#7201a8"
             ],
             [
              0.3333333333333333,
              "#9c179e"
             ],
             [
              0.4444444444444444,
              "#bd3786"
             ],
             [
              0.5555555555555556,
              "#d8576b"
             ],
             [
              0.6666666666666666,
              "#ed7953"
             ],
             [
              0.7777777777777778,
              "#fb9f3a"
             ],
             [
              0.8888888888888888,
              "#fdca26"
             ],
             [
              1,
              "#f0f921"
             ]
            ],
            "type": "contour"
           }
          ],
          "contourcarpet": [
           {
            "colorbar": {
             "outlinewidth": 0,
             "ticks": ""
            },
            "type": "contourcarpet"
           }
          ],
          "heatmap": [
           {
            "colorbar": {
             "outlinewidth": 0,
             "ticks": ""
            },
            "colorscale": [
             [
              0,
              "#0d0887"
             ],
             [
              0.1111111111111111,
              "#46039f"
             ],
             [
              0.2222222222222222,
              "#7201a8"
             ],
             [
              0.3333333333333333,
              "#9c179e"
             ],
             [
              0.4444444444444444,
              "#bd3786"
             ],
             [
              0.5555555555555556,
              "#d8576b"
             ],
             [
              0.6666666666666666,
              "#ed7953"
             ],
             [
              0.7777777777777778,
              "#fb9f3a"
             ],
             [
              0.8888888888888888,
              "#fdca26"
             ],
             [
              1,
              "#f0f921"
             ]
            ],
            "type": "heatmap"
           }
          ],
          "heatmapgl": [
           {
            "colorbar": {
             "outlinewidth": 0,
             "ticks": ""
            },
            "colorscale": [
             [
              0,
              "#0d0887"
             ],
             [
              0.1111111111111111,
              "#46039f"
             ],
             [
              0.2222222222222222,
              "#7201a8"
             ],
             [
              0.3333333333333333,
              "#9c179e"
             ],
             [
              0.4444444444444444,
              "#bd3786"
             ],
             [
              0.5555555555555556,
              "#d8576b"
             ],
             [
              0.6666666666666666,
              "#ed7953"
             ],
             [
              0.7777777777777778,
              "#fb9f3a"
             ],
             [
              0.8888888888888888,
              "#fdca26"
             ],
             [
              1,
              "#f0f921"
             ]
            ],
            "type": "heatmapgl"
           }
          ],
          "histogram": [
           {
            "marker": {
             "colorbar": {
              "outlinewidth": 0,
              "ticks": ""
             }
            },
            "type": "histogram"
           }
          ],
          "histogram2d": [
           {
            "colorbar": {
             "outlinewidth": 0,
             "ticks": ""
            },
            "colorscale": [
             [
              0,
              "#0d0887"
             ],
             [
              0.1111111111111111,
              "#46039f"
             ],
             [
              0.2222222222222222,
              "#7201a8"
             ],
             [
              0.3333333333333333,
              "#9c179e"
             ],
             [
              0.4444444444444444,
              "#bd3786"
             ],
             [
              0.5555555555555556,
              "#d8576b"
             ],
             [
              0.6666666666666666,
              "#ed7953"
             ],
             [
              0.7777777777777778,
              "#fb9f3a"
             ],
             [
              0.8888888888888888,
              "#fdca26"
             ],
             [
              1,
              "#f0f921"
             ]
            ],
            "type": "histogram2d"
           }
          ],
          "histogram2dcontour": [
           {
            "colorbar": {
             "outlinewidth": 0,
             "ticks": ""
            },
            "colorscale": [
             [
              0,
              "#0d0887"
             ],
             [
              0.1111111111111111,
              "#46039f"
             ],
             [
              0.2222222222222222,
              "#7201a8"
             ],
             [
              0.3333333333333333,
              "#9c179e"
             ],
             [
              0.4444444444444444,
              "#bd3786"
             ],
             [
              0.5555555555555556,
              "#d8576b"
             ],
             [
              0.6666666666666666,
              "#ed7953"
             ],
             [
              0.7777777777777778,
              "#fb9f3a"
             ],
             [
              0.8888888888888888,
              "#fdca26"
             ],
             [
              1,
              "#f0f921"
             ]
            ],
            "type": "histogram2dcontour"
           }
          ],
          "mesh3d": [
           {
            "colorbar": {
             "outlinewidth": 0,
             "ticks": ""
            },
            "type": "mesh3d"
           }
          ],
          "parcoords": [
           {
            "line": {
             "colorbar": {
              "outlinewidth": 0,
              "ticks": ""
             }
            },
            "type": "parcoords"
           }
          ],
          "scatter": [
           {
            "marker": {
             "colorbar": {
              "outlinewidth": 0,
              "ticks": ""
             }
            },
            "type": "scatter"
           }
          ],
          "scatter3d": [
           {
            "line": {
             "colorbar": {
              "outlinewidth": 0,
              "ticks": ""
             }
            },
            "marker": {
             "colorbar": {
              "outlinewidth": 0,
              "ticks": ""
             }
            },
            "type": "scatter3d"
           }
          ],
          "scattercarpet": [
           {
            "marker": {
             "colorbar": {
              "outlinewidth": 0,
              "ticks": ""
             }
            },
            "type": "scattercarpet"
           }
          ],
          "scattergeo": [
           {
            "marker": {
             "colorbar": {
              "outlinewidth": 0,
              "ticks": ""
             }
            },
            "type": "scattergeo"
           }
          ],
          "scattergl": [
           {
            "marker": {
             "colorbar": {
              "outlinewidth": 0,
              "ticks": ""
             }
            },
            "type": "scattergl"
           }
          ],
          "scattermapbox": [
           {
            "marker": {
             "colorbar": {
              "outlinewidth": 0,
              "ticks": ""
             }
            },
            "type": "scattermapbox"
           }
          ],
          "scatterpolar": [
           {
            "marker": {
             "colorbar": {
              "outlinewidth": 0,
              "ticks": ""
             }
            },
            "type": "scatterpolar"
           }
          ],
          "scatterpolargl": [
           {
            "marker": {
             "colorbar": {
              "outlinewidth": 0,
              "ticks": ""
             }
            },
            "type": "scatterpolargl"
           }
          ],
          "scatterternary": [
           {
            "marker": {
             "colorbar": {
              "outlinewidth": 0,
              "ticks": ""
             }
            },
            "type": "scatterternary"
           }
          ],
          "surface": [
           {
            "colorbar": {
             "outlinewidth": 0,
             "ticks": ""
            },
            "colorscale": [
             [
              0,
              "#0d0887"
             ],
             [
              0.1111111111111111,
              "#46039f"
             ],
             [
              0.2222222222222222,
              "#7201a8"
             ],
             [
              0.3333333333333333,
              "#9c179e"
             ],
             [
              0.4444444444444444,
              "#bd3786"
             ],
             [
              0.5555555555555556,
              "#d8576b"
             ],
             [
              0.6666666666666666,
              "#ed7953"
             ],
             [
              0.7777777777777778,
              "#fb9f3a"
             ],
             [
              0.8888888888888888,
              "#fdca26"
             ],
             [
              1,
              "#f0f921"
             ]
            ],
            "type": "surface"
           }
          ],
          "table": [
           {
            "cells": {
             "fill": {
              "color": "#EBF0F8"
             },
             "line": {
              "color": "white"
             }
            },
            "header": {
             "fill": {
              "color": "#C8D4E3"
             },
             "line": {
              "color": "white"
             }
            },
            "type": "table"
           }
          ]
         },
         "layout": {
          "annotationdefaults": {
           "arrowcolor": "#2a3f5f",
           "arrowhead": 0,
           "arrowwidth": 1
          },
          "colorscale": {
           "diverging": [
            [
             0,
             "#8e0152"
            ],
            [
             0.1,
             "#c51b7d"
            ],
            [
             0.2,
             "#de77ae"
            ],
            [
             0.3,
             "#f1b6da"
            ],
            [
             0.4,
             "#fde0ef"
            ],
            [
             0.5,
             "#f7f7f7"
            ],
            [
             0.6,
             "#e6f5d0"
            ],
            [
             0.7,
             "#b8e186"
            ],
            [
             0.8,
             "#7fbc41"
            ],
            [
             0.9,
             "#4d9221"
            ],
            [
             1,
             "#276419"
            ]
           ],
           "sequential": [
            [
             0,
             "#0d0887"
            ],
            [
             0.1111111111111111,
             "#46039f"
            ],
            [
             0.2222222222222222,
             "#7201a8"
            ],
            [
             0.3333333333333333,
             "#9c179e"
            ],
            [
             0.4444444444444444,
             "#bd3786"
            ],
            [
             0.5555555555555556,
             "#d8576b"
            ],
            [
             0.6666666666666666,
             "#ed7953"
            ],
            [
             0.7777777777777778,
             "#fb9f3a"
            ],
            [
             0.8888888888888888,
             "#fdca26"
            ],
            [
             1,
             "#f0f921"
            ]
           ],
           "sequentialminus": [
            [
             0,
             "#0d0887"
            ],
            [
             0.1111111111111111,
             "#46039f"
            ],
            [
             0.2222222222222222,
             "#7201a8"
            ],
            [
             0.3333333333333333,
             "#9c179e"
            ],
            [
             0.4444444444444444,
             "#bd3786"
            ],
            [
             0.5555555555555556,
             "#d8576b"
            ],
            [
             0.6666666666666666,
             "#ed7953"
            ],
            [
             0.7777777777777778,
             "#fb9f3a"
            ],
            [
             0.8888888888888888,
             "#fdca26"
            ],
            [
             1,
             "#f0f921"
            ]
           ]
          },
          "colorway": [
           "#636efa",
           "#EF553B",
           "#00cc96",
           "#ab63fa",
           "#FFA15A",
           "#19d3f3",
           "#FF6692",
           "#B6E880",
           "#FF97FF",
           "#FECB52"
          ],
          "font": {
           "color": "#2a3f5f"
          },
          "geo": {
           "bgcolor": "white",
           "lakecolor": "white",
           "landcolor": "#E5ECF6",
           "showlakes": true,
           "showland": true,
           "subunitcolor": "white"
          },
          "hoverlabel": {
           "align": "left"
          },
          "hovermode": "closest",
          "mapbox": {
           "style": "light"
          },
          "paper_bgcolor": "white",
          "plot_bgcolor": "#E5ECF6",
          "polar": {
           "angularaxis": {
            "gridcolor": "white",
            "linecolor": "white",
            "ticks": ""
           },
           "bgcolor": "#E5ECF6",
           "radialaxis": {
            "gridcolor": "white",
            "linecolor": "white",
            "ticks": ""
           }
          },
          "scene": {
           "xaxis": {
            "backgroundcolor": "#E5ECF6",
            "gridcolor": "white",
            "gridwidth": 2,
            "linecolor": "white",
            "showbackground": true,
            "ticks": "",
            "zerolinecolor": "white"
           },
           "yaxis": {
            "backgroundcolor": "#E5ECF6",
            "gridcolor": "white",
            "gridwidth": 2,
            "linecolor": "white",
            "showbackground": true,
            "ticks": "",
            "zerolinecolor": "white"
           },
           "zaxis": {
            "backgroundcolor": "#E5ECF6",
            "gridcolor": "white",
            "gridwidth": 2,
            "linecolor": "white",
            "showbackground": true,
            "ticks": "",
            "zerolinecolor": "white"
           }
          },
          "shapedefaults": {
           "line": {
            "color": "#2a3f5f"
           }
          },
          "ternary": {
           "aaxis": {
            "gridcolor": "white",
            "linecolor": "white",
            "ticks": ""
           },
           "baxis": {
            "gridcolor": "white",
            "linecolor": "white",
            "ticks": ""
           },
           "bgcolor": "#E5ECF6",
           "caxis": {
            "gridcolor": "white",
            "linecolor": "white",
            "ticks": ""
           }
          },
          "title": {
           "x": 0.05
          },
          "xaxis": {
           "automargin": true,
           "gridcolor": "white",
           "linecolor": "white",
           "ticks": "",
           "zerolinecolor": "white",
           "zerolinewidth": 2
          },
          "yaxis": {
           "automargin": true,
           "gridcolor": "white",
           "linecolor": "white",
           "ticks": "",
           "zerolinecolor": "white",
           "zerolinewidth": 2
          }
         }
        },
        "title": {
         "text": "Percent Contained",
         "x": 0,
         "xref": "paper"
        }
       }
      },
      "text/html": [
       "<div>\n",
       "        \n",
       "        \n",
       "            <div id=\"52f20c29-fb6a-4b47-8f6e-434216285362\" class=\"plotly-graph-div\" style=\"height:525px; width:100%;\"></div>\n",
       "            <script type=\"text/javascript\">\n",
       "                require([\"plotly\"], function(Plotly) {\n",
       "                    window.PLOTLYENV=window.PLOTLYENV || {};\n",
       "                    \n",
       "                if (document.getElementById(\"52f20c29-fb6a-4b47-8f6e-434216285362\")) {\n",
       "                    Plotly.newPlot(\n",
       "                        '52f20c29-fb6a-4b47-8f6e-434216285362',\n",
       "                        [{\"marker\": {\"color\": \"rgb(158,202,225)\", \"line\": {\"color\": \"rgb(8,48,107)\", \"width\": 1.5}}, \"opacity\": 0.6, \"text\": [\" 5\", \" 97\", \" 70\", \" 20\", \" 90\"], \"textposition\": \"auto\", \"type\": \"bar\", \"x\": [\"Kincade Fire\", \"Saddle Ridge Fire\", \"Tick Fire\", \"Burris Fire\", \"Sky Fire \"], \"y\": [\" 5\", \" 97\", \" 70\", \" 20\", \" 90\"]}],\n",
       "                        {\"template\": {\"data\": {\"bar\": [{\"error_x\": {\"color\": \"#2a3f5f\"}, \"error_y\": {\"color\": \"#2a3f5f\"}, \"marker\": {\"line\": {\"color\": \"#E5ECF6\", \"width\": 0.5}}, \"type\": \"bar\"}], \"barpolar\": [{\"marker\": {\"line\": {\"color\": \"#E5ECF6\", \"width\": 0.5}}, \"type\": \"barpolar\"}], \"carpet\": [{\"aaxis\": {\"endlinecolor\": \"#2a3f5f\", \"gridcolor\": \"white\", \"linecolor\": \"white\", \"minorgridcolor\": \"white\", \"startlinecolor\": \"#2a3f5f\"}, \"baxis\": {\"endlinecolor\": \"#2a3f5f\", \"gridcolor\": \"white\", \"linecolor\": \"white\", \"minorgridcolor\": \"white\", \"startlinecolor\": \"#2a3f5f\"}, \"type\": \"carpet\"}], \"choropleth\": [{\"colorbar\": {\"outlinewidth\": 0, \"ticks\": \"\"}, \"type\": \"choropleth\"}], \"contour\": [{\"colorbar\": {\"outlinewidth\": 0, \"ticks\": \"\"}, \"colorscale\": [[0.0, \"#0d0887\"], [0.1111111111111111, \"#46039f\"], [0.2222222222222222, \"#7201a8\"], [0.3333333333333333, \"#9c179e\"], [0.4444444444444444, \"#bd3786\"], [0.5555555555555556, \"#d8576b\"], [0.6666666666666666, \"#ed7953\"], [0.7777777777777778, \"#fb9f3a\"], [0.8888888888888888, \"#fdca26\"], [1.0, \"#f0f921\"]], \"type\": \"contour\"}], \"contourcarpet\": [{\"colorbar\": {\"outlinewidth\": 0, \"ticks\": \"\"}, \"type\": \"contourcarpet\"}], \"heatmap\": [{\"colorbar\": {\"outlinewidth\": 0, \"ticks\": \"\"}, \"colorscale\": [[0.0, \"#0d0887\"], [0.1111111111111111, \"#46039f\"], [0.2222222222222222, \"#7201a8\"], [0.3333333333333333, \"#9c179e\"], [0.4444444444444444, \"#bd3786\"], [0.5555555555555556, \"#d8576b\"], [0.6666666666666666, \"#ed7953\"], [0.7777777777777778, \"#fb9f3a\"], [0.8888888888888888, \"#fdca26\"], [1.0, \"#f0f921\"]], \"type\": \"heatmap\"}], \"heatmapgl\": [{\"colorbar\": {\"outlinewidth\": 0, \"ticks\": \"\"}, \"colorscale\": [[0.0, \"#0d0887\"], [0.1111111111111111, \"#46039f\"], [0.2222222222222222, \"#7201a8\"], [0.3333333333333333, \"#9c179e\"], [0.4444444444444444, \"#bd3786\"], [0.5555555555555556, \"#d8576b\"], [0.6666666666666666, \"#ed7953\"], [0.7777777777777778, \"#fb9f3a\"], [0.8888888888888888, \"#fdca26\"], [1.0, \"#f0f921\"]], \"type\": \"heatmapgl\"}], \"histogram\": [{\"marker\": {\"colorbar\": {\"outlinewidth\": 0, \"ticks\": \"\"}}, \"type\": \"histogram\"}], \"histogram2d\": [{\"colorbar\": {\"outlinewidth\": 0, \"ticks\": \"\"}, \"colorscale\": [[0.0, \"#0d0887\"], [0.1111111111111111, \"#46039f\"], [0.2222222222222222, \"#7201a8\"], [0.3333333333333333, \"#9c179e\"], [0.4444444444444444, \"#bd3786\"], [0.5555555555555556, \"#d8576b\"], [0.6666666666666666, \"#ed7953\"], [0.7777777777777778, \"#fb9f3a\"], [0.8888888888888888, \"#fdca26\"], [1.0, \"#f0f921\"]], \"type\": \"histogram2d\"}], \"histogram2dcontour\": [{\"colorbar\": {\"outlinewidth\": 0, \"ticks\": \"\"}, \"colorscale\": [[0.0, \"#0d0887\"], [0.1111111111111111, \"#46039f\"], [0.2222222222222222, \"#7201a8\"], [0.3333333333333333, \"#9c179e\"], [0.4444444444444444, \"#bd3786\"], [0.5555555555555556, \"#d8576b\"], [0.6666666666666666, \"#ed7953\"], [0.7777777777777778, \"#fb9f3a\"], [0.8888888888888888, \"#fdca26\"], [1.0, \"#f0f921\"]], \"type\": \"histogram2dcontour\"}], \"mesh3d\": [{\"colorbar\": {\"outlinewidth\": 0, \"ticks\": \"\"}, \"type\": \"mesh3d\"}], \"parcoords\": [{\"line\": {\"colorbar\": {\"outlinewidth\": 0, \"ticks\": \"\"}}, \"type\": \"parcoords\"}], \"scatter\": [{\"marker\": {\"colorbar\": {\"outlinewidth\": 0, \"ticks\": \"\"}}, \"type\": \"scatter\"}], \"scatter3d\": [{\"line\": {\"colorbar\": {\"outlinewidth\": 0, \"ticks\": \"\"}}, \"marker\": {\"colorbar\": {\"outlinewidth\": 0, \"ticks\": \"\"}}, \"type\": \"scatter3d\"}], \"scattercarpet\": [{\"marker\": {\"colorbar\": {\"outlinewidth\": 0, \"ticks\": \"\"}}, \"type\": \"scattercarpet\"}], \"scattergeo\": [{\"marker\": {\"colorbar\": {\"outlinewidth\": 0, \"ticks\": \"\"}}, \"type\": \"scattergeo\"}], \"scattergl\": [{\"marker\": {\"colorbar\": {\"outlinewidth\": 0, \"ticks\": \"\"}}, \"type\": \"scattergl\"}], \"scattermapbox\": [{\"marker\": {\"colorbar\": {\"outlinewidth\": 0, \"ticks\": \"\"}}, \"type\": \"scattermapbox\"}], \"scatterpolar\": [{\"marker\": {\"colorbar\": {\"outlinewidth\": 0, \"ticks\": \"\"}}, \"type\": \"scatterpolar\"}], \"scatterpolargl\": [{\"marker\": {\"colorbar\": {\"outlinewidth\": 0, \"ticks\": \"\"}}, \"type\": \"scatterpolargl\"}], \"scatterternary\": [{\"marker\": {\"colorbar\": {\"outlinewidth\": 0, \"ticks\": \"\"}}, \"type\": \"scatterternary\"}], \"surface\": [{\"colorbar\": {\"outlinewidth\": 0, \"ticks\": \"\"}, \"colorscale\": [[0.0, \"#0d0887\"], [0.1111111111111111, \"#46039f\"], [0.2222222222222222, \"#7201a8\"], [0.3333333333333333, \"#9c179e\"], [0.4444444444444444, \"#bd3786\"], [0.5555555555555556, \"#d8576b\"], [0.6666666666666666, \"#ed7953\"], [0.7777777777777778, \"#fb9f3a\"], [0.8888888888888888, \"#fdca26\"], [1.0, \"#f0f921\"]], \"type\": \"surface\"}], \"table\": [{\"cells\": {\"fill\": {\"color\": \"#EBF0F8\"}, \"line\": {\"color\": \"white\"}}, \"header\": {\"fill\": {\"color\": \"#C8D4E3\"}, \"line\": {\"color\": \"white\"}}, \"type\": \"table\"}]}, \"layout\": {\"annotationdefaults\": {\"arrowcolor\": \"#2a3f5f\", \"arrowhead\": 0, \"arrowwidth\": 1}, \"colorscale\": {\"diverging\": [[0, \"#8e0152\"], [0.1, \"#c51b7d\"], [0.2, \"#de77ae\"], [0.3, \"#f1b6da\"], [0.4, \"#fde0ef\"], [0.5, \"#f7f7f7\"], [0.6, \"#e6f5d0\"], [0.7, \"#b8e186\"], [0.8, \"#7fbc41\"], [0.9, \"#4d9221\"], [1, \"#276419\"]], \"sequential\": [[0.0, \"#0d0887\"], [0.1111111111111111, \"#46039f\"], [0.2222222222222222, \"#7201a8\"], [0.3333333333333333, \"#9c179e\"], [0.4444444444444444, \"#bd3786\"], [0.5555555555555556, \"#d8576b\"], [0.6666666666666666, \"#ed7953\"], [0.7777777777777778, \"#fb9f3a\"], [0.8888888888888888, \"#fdca26\"], [1.0, \"#f0f921\"]], \"sequentialminus\": [[0.0, \"#0d0887\"], [0.1111111111111111, \"#46039f\"], [0.2222222222222222, \"#7201a8\"], [0.3333333333333333, \"#9c179e\"], [0.4444444444444444, \"#bd3786\"], [0.5555555555555556, \"#d8576b\"], [0.6666666666666666, \"#ed7953\"], [0.7777777777777778, \"#fb9f3a\"], [0.8888888888888888, \"#fdca26\"], [1.0, \"#f0f921\"]]}, \"colorway\": [\"#636efa\", \"#EF553B\", \"#00cc96\", \"#ab63fa\", \"#FFA15A\", \"#19d3f3\", \"#FF6692\", \"#B6E880\", \"#FF97FF\", \"#FECB52\"], \"font\": {\"color\": \"#2a3f5f\"}, \"geo\": {\"bgcolor\": \"white\", \"lakecolor\": \"white\", \"landcolor\": \"#E5ECF6\", \"showlakes\": true, \"showland\": true, \"subunitcolor\": \"white\"}, \"hoverlabel\": {\"align\": \"left\"}, \"hovermode\": \"closest\", \"mapbox\": {\"style\": \"light\"}, \"paper_bgcolor\": \"white\", \"plot_bgcolor\": \"#E5ECF6\", \"polar\": {\"angularaxis\": {\"gridcolor\": \"white\", \"linecolor\": \"white\", \"ticks\": \"\"}, \"bgcolor\": \"#E5ECF6\", \"radialaxis\": {\"gridcolor\": \"white\", \"linecolor\": \"white\", \"ticks\": \"\"}}, \"scene\": {\"xaxis\": {\"backgroundcolor\": \"#E5ECF6\", \"gridcolor\": \"white\", \"gridwidth\": 2, \"linecolor\": \"white\", \"showbackground\": true, \"ticks\": \"\", \"zerolinecolor\": \"white\"}, \"yaxis\": {\"backgroundcolor\": \"#E5ECF6\", \"gridcolor\": \"white\", \"gridwidth\": 2, \"linecolor\": \"white\", \"showbackground\": true, \"ticks\": \"\", \"zerolinecolor\": \"white\"}, \"zaxis\": {\"backgroundcolor\": \"#E5ECF6\", \"gridcolor\": \"white\", \"gridwidth\": 2, \"linecolor\": \"white\", \"showbackground\": true, \"ticks\": \"\", \"zerolinecolor\": \"white\"}}, \"shapedefaults\": {\"line\": {\"color\": \"#2a3f5f\"}}, \"ternary\": {\"aaxis\": {\"gridcolor\": \"white\", \"linecolor\": \"white\", \"ticks\": \"\"}, \"baxis\": {\"gridcolor\": \"white\", \"linecolor\": \"white\", \"ticks\": \"\"}, \"bgcolor\": \"#E5ECF6\", \"caxis\": {\"gridcolor\": \"white\", \"linecolor\": \"white\", \"ticks\": \"\"}}, \"title\": {\"x\": 0.05}, \"xaxis\": {\"automargin\": true, \"gridcolor\": \"white\", \"linecolor\": \"white\", \"ticks\": \"\", \"zerolinecolor\": \"white\", \"zerolinewidth\": 2}, \"yaxis\": {\"automargin\": true, \"gridcolor\": \"white\", \"linecolor\": \"white\", \"ticks\": \"\", \"zerolinecolor\": \"white\", \"zerolinewidth\": 2}}}, \"title\": {\"text\": \"Percent Contained\", \"x\": 0, \"xref\": \"paper\"}},\n",
       "                        {\"responsive\": true}\n",
       "                    ).then(function(){\n",
       "                            \n",
       "var gd = document.getElementById('52f20c29-fb6a-4b47-8f6e-434216285362');\n",
       "var x = new MutationObserver(function (mutations, observer) {{\n",
       "        var display = window.getComputedStyle(gd).display;\n",
       "        if (!display || display === 'none') {{\n",
       "            console.log([gd, 'removed!']);\n",
       "            Plotly.purge(gd);\n",
       "            observer.disconnect();\n",
       "        }}\n",
       "}});\n",
       "\n",
       "// Listen for the removal of the full notebook cells\n",
       "var notebookContainer = gd.closest('#notebook-container');\n",
       "if (notebookContainer) {{\n",
       "    x.observe(notebookContainer, {childList: true});\n",
       "}}\n",
       "\n",
       "// Listen for the clearing of the current output cell\n",
       "var outputEl = gd.closest('.output');\n",
       "if (outputEl) {{\n",
       "    x.observe(outputEl, {childList: true});\n",
       "}}\n",
       "\n",
       "                        })\n",
       "                };\n",
       "                });\n",
       "            </script>\n",
       "        </div>"
      ]
     },
     "metadata": {},
     "output_type": "display_data"
    }
   ],
   "source": [
    "fig1 = go.Figure(data=go.Bar(x=df['name'][:5], y=df['%_numeric'][:5],\n",
    "                           text=y,\n",
    "    textposition = 'auto',\n",
    "    marker=dict(\n",
    "        color='rgb(158,202,225)',\n",
    "        line=dict(\n",
    "            color='rgb(8,48,107)',\n",
    "            width=1.5),\n",
    "        ),\n",
    "    opacity=0.6))\n",
    "\n",
    "fig1.update_layout(\n",
    "    title=go.layout.Title(\n",
    "        text=\"Percent Contained\",\n",
    "        xref=\"paper\",\n",
    "        x=0\n",
    "    ))\n",
    "\n",
    "fig1.show()"
   ]
  },
  {
   "cell_type": "code",
   "execution_count": null,
   "metadata": {},
   "outputs": [],
   "source": [
    "pio.write_html(fig1, file='percent_contained.html', auto_open=True)"
   ]
  },
  {
   "cell_type": "code",
   "execution_count": 89,
   "metadata": {},
   "outputs": [
    {
     "data": {
      "application/vnd.plotly.v1+json": {
       "config": {
        "plotlyServerURL": "https://plot.ly"
       },
       "data": [
        {
         "marker": {
          "color": "rgb(58,200,225)",
          "line": {
           "color": "rgb(8,48,107)",
           "width": 1.5
          }
         },
         "opacity": 0.6,
         "text": [
          "66231 ",
          "8799 ",
          "4615 ",
          "350 ",
          "150 "
         ],
         "textposition": "auto",
         "type": "bar",
         "x": [
          "Kincade Fire",
          "Saddle Ridge Fire",
          "Tick Fire",
          "Burris Fire",
          "Sky Fire "
         ],
         "y": [
          "66231 ",
          "8799 ",
          "4615 ",
          "350 ",
          "150 "
         ]
        }
       ],
       "layout": {
        "template": {
         "data": {
          "bar": [
           {
            "error_x": {
             "color": "#2a3f5f"
            },
            "error_y": {
             "color": "#2a3f5f"
            },
            "marker": {
             "line": {
              "color": "#E5ECF6",
              "width": 0.5
             }
            },
            "type": "bar"
           }
          ],
          "barpolar": [
           {
            "marker": {
             "line": {
              "color": "#E5ECF6",
              "width": 0.5
             }
            },
            "type": "barpolar"
           }
          ],
          "carpet": [
           {
            "aaxis": {
             "endlinecolor": "#2a3f5f",
             "gridcolor": "white",
             "linecolor": "white",
             "minorgridcolor": "white",
             "startlinecolor": "#2a3f5f"
            },
            "baxis": {
             "endlinecolor": "#2a3f5f",
             "gridcolor": "white",
             "linecolor": "white",
             "minorgridcolor": "white",
             "startlinecolor": "#2a3f5f"
            },
            "type": "carpet"
           }
          ],
          "choropleth": [
           {
            "colorbar": {
             "outlinewidth": 0,
             "ticks": ""
            },
            "type": "choropleth"
           }
          ],
          "contour": [
           {
            "colorbar": {
             "outlinewidth": 0,
             "ticks": ""
            },
            "colorscale": [
             [
              0,
              "#0d0887"
             ],
             [
              0.1111111111111111,
              "#46039f"
             ],
             [
              0.2222222222222222,
              "#7201a8"
             ],
             [
              0.3333333333333333,
              "#9c179e"
             ],
             [
              0.4444444444444444,
              "#bd3786"
             ],
             [
              0.5555555555555556,
              "#d8576b"
             ],
             [
              0.6666666666666666,
              "#ed7953"
             ],
             [
              0.7777777777777778,
              "#fb9f3a"
             ],
             [
              0.8888888888888888,
              "#fdca26"
             ],
             [
              1,
              "#f0f921"
             ]
            ],
            "type": "contour"
           }
          ],
          "contourcarpet": [
           {
            "colorbar": {
             "outlinewidth": 0,
             "ticks": ""
            },
            "type": "contourcarpet"
           }
          ],
          "heatmap": [
           {
            "colorbar": {
             "outlinewidth": 0,
             "ticks": ""
            },
            "colorscale": [
             [
              0,
              "#0d0887"
             ],
             [
              0.1111111111111111,
              "#46039f"
             ],
             [
              0.2222222222222222,
              "#7201a8"
             ],
             [
              0.3333333333333333,
              "#9c179e"
             ],
             [
              0.4444444444444444,
              "#bd3786"
             ],
             [
              0.5555555555555556,
              "#d8576b"
             ],
             [
              0.6666666666666666,
              "#ed7953"
             ],
             [
              0.7777777777777778,
              "#fb9f3a"
             ],
             [
              0.8888888888888888,
              "#fdca26"
             ],
             [
              1,
              "#f0f921"
             ]
            ],
            "type": "heatmap"
           }
          ],
          "heatmapgl": [
           {
            "colorbar": {
             "outlinewidth": 0,
             "ticks": ""
            },
            "colorscale": [
             [
              0,
              "#0d0887"
             ],
             [
              0.1111111111111111,
              "#46039f"
             ],
             [
              0.2222222222222222,
              "#7201a8"
             ],
             [
              0.3333333333333333,
              "#9c179e"
             ],
             [
              0.4444444444444444,
              "#bd3786"
             ],
             [
              0.5555555555555556,
              "#d8576b"
             ],
             [
              0.6666666666666666,
              "#ed7953"
             ],
             [
              0.7777777777777778,
              "#fb9f3a"
             ],
             [
              0.8888888888888888,
              "#fdca26"
             ],
             [
              1,
              "#f0f921"
             ]
            ],
            "type": "heatmapgl"
           }
          ],
          "histogram": [
           {
            "marker": {
             "colorbar": {
              "outlinewidth": 0,
              "ticks": ""
             }
            },
            "type": "histogram"
           }
          ],
          "histogram2d": [
           {
            "colorbar": {
             "outlinewidth": 0,
             "ticks": ""
            },
            "colorscale": [
             [
              0,
              "#0d0887"
             ],
             [
              0.1111111111111111,
              "#46039f"
             ],
             [
              0.2222222222222222,
              "#7201a8"
             ],
             [
              0.3333333333333333,
              "#9c179e"
             ],
             [
              0.4444444444444444,
              "#bd3786"
             ],
             [
              0.5555555555555556,
              "#d8576b"
             ],
             [
              0.6666666666666666,
              "#ed7953"
             ],
             [
              0.7777777777777778,
              "#fb9f3a"
             ],
             [
              0.8888888888888888,
              "#fdca26"
             ],
             [
              1,
              "#f0f921"
             ]
            ],
            "type": "histogram2d"
           }
          ],
          "histogram2dcontour": [
           {
            "colorbar": {
             "outlinewidth": 0,
             "ticks": ""
            },
            "colorscale": [
             [
              0,
              "#0d0887"
             ],
             [
              0.1111111111111111,
              "#46039f"
             ],
             [
              0.2222222222222222,
              "#7201a8"
             ],
             [
              0.3333333333333333,
              "#9c179e"
             ],
             [
              0.4444444444444444,
              "#bd3786"
             ],
             [
              0.5555555555555556,
              "#d8576b"
             ],
             [
              0.6666666666666666,
              "#ed7953"
             ],
             [
              0.7777777777777778,
              "#fb9f3a"
             ],
             [
              0.8888888888888888,
              "#fdca26"
             ],
             [
              1,
              "#f0f921"
             ]
            ],
            "type": "histogram2dcontour"
           }
          ],
          "mesh3d": [
           {
            "colorbar": {
             "outlinewidth": 0,
             "ticks": ""
            },
            "type": "mesh3d"
           }
          ],
          "parcoords": [
           {
            "line": {
             "colorbar": {
              "outlinewidth": 0,
              "ticks": ""
             }
            },
            "type": "parcoords"
           }
          ],
          "scatter": [
           {
            "marker": {
             "colorbar": {
              "outlinewidth": 0,
              "ticks": ""
             }
            },
            "type": "scatter"
           }
          ],
          "scatter3d": [
           {
            "line": {
             "colorbar": {
              "outlinewidth": 0,
              "ticks": ""
             }
            },
            "marker": {
             "colorbar": {
              "outlinewidth": 0,
              "ticks": ""
             }
            },
            "type": "scatter3d"
           }
          ],
          "scattercarpet": [
           {
            "marker": {
             "colorbar": {
              "outlinewidth": 0,
              "ticks": ""
             }
            },
            "type": "scattercarpet"
           }
          ],
          "scattergeo": [
           {
            "marker": {
             "colorbar": {
              "outlinewidth": 0,
              "ticks": ""
             }
            },
            "type": "scattergeo"
           }
          ],
          "scattergl": [
           {
            "marker": {
             "colorbar": {
              "outlinewidth": 0,
              "ticks": ""
             }
            },
            "type": "scattergl"
           }
          ],
          "scattermapbox": [
           {
            "marker": {
             "colorbar": {
              "outlinewidth": 0,
              "ticks": ""
             }
            },
            "type": "scattermapbox"
           }
          ],
          "scatterpolar": [
           {
            "marker": {
             "colorbar": {
              "outlinewidth": 0,
              "ticks": ""
             }
            },
            "type": "scatterpolar"
           }
          ],
          "scatterpolargl": [
           {
            "marker": {
             "colorbar": {
              "outlinewidth": 0,
              "ticks": ""
             }
            },
            "type": "scatterpolargl"
           }
          ],
          "scatterternary": [
           {
            "marker": {
             "colorbar": {
              "outlinewidth": 0,
              "ticks": ""
             }
            },
            "type": "scatterternary"
           }
          ],
          "surface": [
           {
            "colorbar": {
             "outlinewidth": 0,
             "ticks": ""
            },
            "colorscale": [
             [
              0,
              "#0d0887"
             ],
             [
              0.1111111111111111,
              "#46039f"
             ],
             [
              0.2222222222222222,
              "#7201a8"
             ],
             [
              0.3333333333333333,
              "#9c179e"
             ],
             [
              0.4444444444444444,
              "#bd3786"
             ],
             [
              0.5555555555555556,
              "#d8576b"
             ],
             [
              0.6666666666666666,
              "#ed7953"
             ],
             [
              0.7777777777777778,
              "#fb9f3a"
             ],
             [
              0.8888888888888888,
              "#fdca26"
             ],
             [
              1,
              "#f0f921"
             ]
            ],
            "type": "surface"
           }
          ],
          "table": [
           {
            "cells": {
             "fill": {
              "color": "#EBF0F8"
             },
             "line": {
              "color": "white"
             }
            },
            "header": {
             "fill": {
              "color": "#C8D4E3"
             },
             "line": {
              "color": "white"
             }
            },
            "type": "table"
           }
          ]
         },
         "layout": {
          "annotationdefaults": {
           "arrowcolor": "#2a3f5f",
           "arrowhead": 0,
           "arrowwidth": 1
          },
          "colorscale": {
           "diverging": [
            [
             0,
             "#8e0152"
            ],
            [
             0.1,
             "#c51b7d"
            ],
            [
             0.2,
             "#de77ae"
            ],
            [
             0.3,
             "#f1b6da"
            ],
            [
             0.4,
             "#fde0ef"
            ],
            [
             0.5,
             "#f7f7f7"
            ],
            [
             0.6,
             "#e6f5d0"
            ],
            [
             0.7,
             "#b8e186"
            ],
            [
             0.8,
             "#7fbc41"
            ],
            [
             0.9,
             "#4d9221"
            ],
            [
             1,
             "#276419"
            ]
           ],
           "sequential": [
            [
             0,
             "#0d0887"
            ],
            [
             0.1111111111111111,
             "#46039f"
            ],
            [
             0.2222222222222222,
             "#7201a8"
            ],
            [
             0.3333333333333333,
             "#9c179e"
            ],
            [
             0.4444444444444444,
             "#bd3786"
            ],
            [
             0.5555555555555556,
             "#d8576b"
            ],
            [
             0.6666666666666666,
             "#ed7953"
            ],
            [
             0.7777777777777778,
             "#fb9f3a"
            ],
            [
             0.8888888888888888,
             "#fdca26"
            ],
            [
             1,
             "#f0f921"
            ]
           ],
           "sequentialminus": [
            [
             0,
             "#0d0887"
            ],
            [
             0.1111111111111111,
             "#46039f"
            ],
            [
             0.2222222222222222,
             "#7201a8"
            ],
            [
             0.3333333333333333,
             "#9c179e"
            ],
            [
             0.4444444444444444,
             "#bd3786"
            ],
            [
             0.5555555555555556,
             "#d8576b"
            ],
            [
             0.6666666666666666,
             "#ed7953"
            ],
            [
             0.7777777777777778,
             "#fb9f3a"
            ],
            [
             0.8888888888888888,
             "#fdca26"
            ],
            [
             1,
             "#f0f921"
            ]
           ]
          },
          "colorway": [
           "#636efa",
           "#EF553B",
           "#00cc96",
           "#ab63fa",
           "#FFA15A",
           "#19d3f3",
           "#FF6692",
           "#B6E880",
           "#FF97FF",
           "#FECB52"
          ],
          "font": {
           "color": "#2a3f5f"
          },
          "geo": {
           "bgcolor": "white",
           "lakecolor": "white",
           "landcolor": "#E5ECF6",
           "showlakes": true,
           "showland": true,
           "subunitcolor": "white"
          },
          "hoverlabel": {
           "align": "left"
          },
          "hovermode": "closest",
          "mapbox": {
           "style": "light"
          },
          "paper_bgcolor": "white",
          "plot_bgcolor": "#E5ECF6",
          "polar": {
           "angularaxis": {
            "gridcolor": "white",
            "linecolor": "white",
            "ticks": ""
           },
           "bgcolor": "#E5ECF6",
           "radialaxis": {
            "gridcolor": "white",
            "linecolor": "white",
            "ticks": ""
           }
          },
          "scene": {
           "xaxis": {
            "backgroundcolor": "#E5ECF6",
            "gridcolor": "white",
            "gridwidth": 2,
            "linecolor": "white",
            "showbackground": true,
            "ticks": "",
            "zerolinecolor": "white"
           },
           "yaxis": {
            "backgroundcolor": "#E5ECF6",
            "gridcolor": "white",
            "gridwidth": 2,
            "linecolor": "white",
            "showbackground": true,
            "ticks": "",
            "zerolinecolor": "white"
           },
           "zaxis": {
            "backgroundcolor": "#E5ECF6",
            "gridcolor": "white",
            "gridwidth": 2,
            "linecolor": "white",
            "showbackground": true,
            "ticks": "",
            "zerolinecolor": "white"
           }
          },
          "shapedefaults": {
           "line": {
            "color": "#2a3f5f"
           }
          },
          "ternary": {
           "aaxis": {
            "gridcolor": "white",
            "linecolor": "white",
            "ticks": ""
           },
           "baxis": {
            "gridcolor": "white",
            "linecolor": "white",
            "ticks": ""
           },
           "bgcolor": "#E5ECF6",
           "caxis": {
            "gridcolor": "white",
            "linecolor": "white",
            "ticks": ""
           }
          },
          "title": {
           "x": 0.05
          },
          "xaxis": {
           "automargin": true,
           "gridcolor": "white",
           "linecolor": "white",
           "ticks": "",
           "zerolinecolor": "white",
           "zerolinewidth": 2
          },
          "yaxis": {
           "automargin": true,
           "gridcolor": "white",
           "linecolor": "white",
           "ticks": "",
           "zerolinecolor": "white",
           "zerolinewidth": 2
          }
         }
        },
        "title": {
         "text": "Acres Affected",
         "x": 0,
         "xref": "paper"
        }
       }
      },
      "text/html": [
       "<div>\n",
       "        \n",
       "        \n",
       "            <div id=\"70988466-d1ed-49ac-8676-b687248573a3\" class=\"plotly-graph-div\" style=\"height:525px; width:100%;\"></div>\n",
       "            <script type=\"text/javascript\">\n",
       "                require([\"plotly\"], function(Plotly) {\n",
       "                    window.PLOTLYENV=window.PLOTLYENV || {};\n",
       "                    \n",
       "                if (document.getElementById(\"70988466-d1ed-49ac-8676-b687248573a3\")) {\n",
       "                    Plotly.newPlot(\n",
       "                        '70988466-d1ed-49ac-8676-b687248573a3',\n",
       "                        [{\"marker\": {\"color\": \"rgb(58,200,225)\", \"line\": {\"color\": \"rgb(8,48,107)\", \"width\": 1.5}}, \"opacity\": 0.6, \"text\": [\"66231 \", \"8799 \", \"4615 \", \"350 \", \"150 \"], \"textposition\": \"auto\", \"type\": \"bar\", \"x\": [\"Kincade Fire\", \"Saddle Ridge Fire\", \"Tick Fire\", \"Burris Fire\", \"Sky Fire \"], \"y\": [\"66231 \", \"8799 \", \"4615 \", \"350 \", \"150 \"]}],\n",
       "                        {\"template\": {\"data\": {\"bar\": [{\"error_x\": {\"color\": \"#2a3f5f\"}, \"error_y\": {\"color\": \"#2a3f5f\"}, \"marker\": {\"line\": {\"color\": \"#E5ECF6\", \"width\": 0.5}}, \"type\": \"bar\"}], \"barpolar\": [{\"marker\": {\"line\": {\"color\": \"#E5ECF6\", \"width\": 0.5}}, \"type\": \"barpolar\"}], \"carpet\": [{\"aaxis\": {\"endlinecolor\": \"#2a3f5f\", \"gridcolor\": \"white\", \"linecolor\": \"white\", \"minorgridcolor\": \"white\", \"startlinecolor\": \"#2a3f5f\"}, \"baxis\": {\"endlinecolor\": \"#2a3f5f\", \"gridcolor\": \"white\", \"linecolor\": \"white\", \"minorgridcolor\": \"white\", \"startlinecolor\": \"#2a3f5f\"}, \"type\": \"carpet\"}], \"choropleth\": [{\"colorbar\": {\"outlinewidth\": 0, \"ticks\": \"\"}, \"type\": \"choropleth\"}], \"contour\": [{\"colorbar\": {\"outlinewidth\": 0, \"ticks\": \"\"}, \"colorscale\": [[0.0, \"#0d0887\"], [0.1111111111111111, \"#46039f\"], [0.2222222222222222, \"#7201a8\"], [0.3333333333333333, \"#9c179e\"], [0.4444444444444444, \"#bd3786\"], [0.5555555555555556, \"#d8576b\"], [0.6666666666666666, \"#ed7953\"], [0.7777777777777778, \"#fb9f3a\"], [0.8888888888888888, \"#fdca26\"], [1.0, \"#f0f921\"]], \"type\": \"contour\"}], \"contourcarpet\": [{\"colorbar\": {\"outlinewidth\": 0, \"ticks\": \"\"}, \"type\": \"contourcarpet\"}], \"heatmap\": [{\"colorbar\": {\"outlinewidth\": 0, \"ticks\": \"\"}, \"colorscale\": [[0.0, \"#0d0887\"], [0.1111111111111111, \"#46039f\"], [0.2222222222222222, \"#7201a8\"], [0.3333333333333333, \"#9c179e\"], [0.4444444444444444, \"#bd3786\"], [0.5555555555555556, \"#d8576b\"], [0.6666666666666666, \"#ed7953\"], [0.7777777777777778, \"#fb9f3a\"], [0.8888888888888888, \"#fdca26\"], [1.0, \"#f0f921\"]], \"type\": \"heatmap\"}], \"heatmapgl\": [{\"colorbar\": {\"outlinewidth\": 0, \"ticks\": \"\"}, \"colorscale\": [[0.0, \"#0d0887\"], [0.1111111111111111, \"#46039f\"], [0.2222222222222222, \"#7201a8\"], [0.3333333333333333, \"#9c179e\"], [0.4444444444444444, \"#bd3786\"], [0.5555555555555556, \"#d8576b\"], [0.6666666666666666, \"#ed7953\"], [0.7777777777777778, \"#fb9f3a\"], [0.8888888888888888, \"#fdca26\"], [1.0, \"#f0f921\"]], \"type\": \"heatmapgl\"}], \"histogram\": [{\"marker\": {\"colorbar\": {\"outlinewidth\": 0, \"ticks\": \"\"}}, \"type\": \"histogram\"}], \"histogram2d\": [{\"colorbar\": {\"outlinewidth\": 0, \"ticks\": \"\"}, \"colorscale\": [[0.0, \"#0d0887\"], [0.1111111111111111, \"#46039f\"], [0.2222222222222222, \"#7201a8\"], [0.3333333333333333, \"#9c179e\"], [0.4444444444444444, \"#bd3786\"], [0.5555555555555556, \"#d8576b\"], [0.6666666666666666, \"#ed7953\"], [0.7777777777777778, \"#fb9f3a\"], [0.8888888888888888, \"#fdca26\"], [1.0, \"#f0f921\"]], \"type\": \"histogram2d\"}], \"histogram2dcontour\": [{\"colorbar\": {\"outlinewidth\": 0, \"ticks\": \"\"}, \"colorscale\": [[0.0, \"#0d0887\"], [0.1111111111111111, \"#46039f\"], [0.2222222222222222, \"#7201a8\"], [0.3333333333333333, \"#9c179e\"], [0.4444444444444444, \"#bd3786\"], [0.5555555555555556, \"#d8576b\"], [0.6666666666666666, \"#ed7953\"], [0.7777777777777778, \"#fb9f3a\"], [0.8888888888888888, \"#fdca26\"], [1.0, \"#f0f921\"]], \"type\": \"histogram2dcontour\"}], \"mesh3d\": [{\"colorbar\": {\"outlinewidth\": 0, \"ticks\": \"\"}, \"type\": \"mesh3d\"}], \"parcoords\": [{\"line\": {\"colorbar\": {\"outlinewidth\": 0, \"ticks\": \"\"}}, \"type\": \"parcoords\"}], \"scatter\": [{\"marker\": {\"colorbar\": {\"outlinewidth\": 0, \"ticks\": \"\"}}, \"type\": \"scatter\"}], \"scatter3d\": [{\"line\": {\"colorbar\": {\"outlinewidth\": 0, \"ticks\": \"\"}}, \"marker\": {\"colorbar\": {\"outlinewidth\": 0, \"ticks\": \"\"}}, \"type\": \"scatter3d\"}], \"scattercarpet\": [{\"marker\": {\"colorbar\": {\"outlinewidth\": 0, \"ticks\": \"\"}}, \"type\": \"scattercarpet\"}], \"scattergeo\": [{\"marker\": {\"colorbar\": {\"outlinewidth\": 0, \"ticks\": \"\"}}, \"type\": \"scattergeo\"}], \"scattergl\": [{\"marker\": {\"colorbar\": {\"outlinewidth\": 0, \"ticks\": \"\"}}, \"type\": \"scattergl\"}], \"scattermapbox\": [{\"marker\": {\"colorbar\": {\"outlinewidth\": 0, \"ticks\": \"\"}}, \"type\": \"scattermapbox\"}], \"scatterpolar\": [{\"marker\": {\"colorbar\": {\"outlinewidth\": 0, \"ticks\": \"\"}}, \"type\": \"scatterpolar\"}], \"scatterpolargl\": [{\"marker\": {\"colorbar\": {\"outlinewidth\": 0, \"ticks\": \"\"}}, \"type\": \"scatterpolargl\"}], \"scatterternary\": [{\"marker\": {\"colorbar\": {\"outlinewidth\": 0, \"ticks\": \"\"}}, \"type\": \"scatterternary\"}], \"surface\": [{\"colorbar\": {\"outlinewidth\": 0, \"ticks\": \"\"}, \"colorscale\": [[0.0, \"#0d0887\"], [0.1111111111111111, \"#46039f\"], [0.2222222222222222, \"#7201a8\"], [0.3333333333333333, \"#9c179e\"], [0.4444444444444444, \"#bd3786\"], [0.5555555555555556, \"#d8576b\"], [0.6666666666666666, \"#ed7953\"], [0.7777777777777778, \"#fb9f3a\"], [0.8888888888888888, \"#fdca26\"], [1.0, \"#f0f921\"]], \"type\": \"surface\"}], \"table\": [{\"cells\": {\"fill\": {\"color\": \"#EBF0F8\"}, \"line\": {\"color\": \"white\"}}, \"header\": {\"fill\": {\"color\": \"#C8D4E3\"}, \"line\": {\"color\": \"white\"}}, \"type\": \"table\"}]}, \"layout\": {\"annotationdefaults\": {\"arrowcolor\": \"#2a3f5f\", \"arrowhead\": 0, \"arrowwidth\": 1}, \"colorscale\": {\"diverging\": [[0, \"#8e0152\"], [0.1, \"#c51b7d\"], [0.2, \"#de77ae\"], [0.3, \"#f1b6da\"], [0.4, \"#fde0ef\"], [0.5, \"#f7f7f7\"], [0.6, \"#e6f5d0\"], [0.7, \"#b8e186\"], [0.8, \"#7fbc41\"], [0.9, \"#4d9221\"], [1, \"#276419\"]], \"sequential\": [[0.0, \"#0d0887\"], [0.1111111111111111, \"#46039f\"], [0.2222222222222222, \"#7201a8\"], [0.3333333333333333, \"#9c179e\"], [0.4444444444444444, \"#bd3786\"], [0.5555555555555556, \"#d8576b\"], [0.6666666666666666, \"#ed7953\"], [0.7777777777777778, \"#fb9f3a\"], [0.8888888888888888, \"#fdca26\"], [1.0, \"#f0f921\"]], \"sequentialminus\": [[0.0, \"#0d0887\"], [0.1111111111111111, \"#46039f\"], [0.2222222222222222, \"#7201a8\"], [0.3333333333333333, \"#9c179e\"], [0.4444444444444444, \"#bd3786\"], [0.5555555555555556, \"#d8576b\"], [0.6666666666666666, \"#ed7953\"], [0.7777777777777778, \"#fb9f3a\"], [0.8888888888888888, \"#fdca26\"], [1.0, \"#f0f921\"]]}, \"colorway\": [\"#636efa\", \"#EF553B\", \"#00cc96\", \"#ab63fa\", \"#FFA15A\", \"#19d3f3\", \"#FF6692\", \"#B6E880\", \"#FF97FF\", \"#FECB52\"], \"font\": {\"color\": \"#2a3f5f\"}, \"geo\": {\"bgcolor\": \"white\", \"lakecolor\": \"white\", \"landcolor\": \"#E5ECF6\", \"showlakes\": true, \"showland\": true, \"subunitcolor\": \"white\"}, \"hoverlabel\": {\"align\": \"left\"}, \"hovermode\": \"closest\", \"mapbox\": {\"style\": \"light\"}, \"paper_bgcolor\": \"white\", \"plot_bgcolor\": \"#E5ECF6\", \"polar\": {\"angularaxis\": {\"gridcolor\": \"white\", \"linecolor\": \"white\", \"ticks\": \"\"}, \"bgcolor\": \"#E5ECF6\", \"radialaxis\": {\"gridcolor\": \"white\", \"linecolor\": \"white\", \"ticks\": \"\"}}, \"scene\": {\"xaxis\": {\"backgroundcolor\": \"#E5ECF6\", \"gridcolor\": \"white\", \"gridwidth\": 2, \"linecolor\": \"white\", \"showbackground\": true, \"ticks\": \"\", \"zerolinecolor\": \"white\"}, \"yaxis\": {\"backgroundcolor\": \"#E5ECF6\", \"gridcolor\": \"white\", \"gridwidth\": 2, \"linecolor\": \"white\", \"showbackground\": true, \"ticks\": \"\", \"zerolinecolor\": \"white\"}, \"zaxis\": {\"backgroundcolor\": \"#E5ECF6\", \"gridcolor\": \"white\", \"gridwidth\": 2, \"linecolor\": \"white\", \"showbackground\": true, \"ticks\": \"\", \"zerolinecolor\": \"white\"}}, \"shapedefaults\": {\"line\": {\"color\": \"#2a3f5f\"}}, \"ternary\": {\"aaxis\": {\"gridcolor\": \"white\", \"linecolor\": \"white\", \"ticks\": \"\"}, \"baxis\": {\"gridcolor\": \"white\", \"linecolor\": \"white\", \"ticks\": \"\"}, \"bgcolor\": \"#E5ECF6\", \"caxis\": {\"gridcolor\": \"white\", \"linecolor\": \"white\", \"ticks\": \"\"}}, \"title\": {\"x\": 0.05}, \"xaxis\": {\"automargin\": true, \"gridcolor\": \"white\", \"linecolor\": \"white\", \"ticks\": \"\", \"zerolinecolor\": \"white\", \"zerolinewidth\": 2}, \"yaxis\": {\"automargin\": true, \"gridcolor\": \"white\", \"linecolor\": \"white\", \"ticks\": \"\", \"zerolinecolor\": \"white\", \"zerolinewidth\": 2}}}, \"title\": {\"text\": \"Acres Affected\", \"x\": 0, \"xref\": \"paper\"}},\n",
       "                        {\"responsive\": true}\n",
       "                    ).then(function(){\n",
       "                            \n",
       "var gd = document.getElementById('70988466-d1ed-49ac-8676-b687248573a3');\n",
       "var x = new MutationObserver(function (mutations, observer) {{\n",
       "        var display = window.getComputedStyle(gd).display;\n",
       "        if (!display || display === 'none') {{\n",
       "            console.log([gd, 'removed!']);\n",
       "            Plotly.purge(gd);\n",
       "            observer.disconnect();\n",
       "        }}\n",
       "}});\n",
       "\n",
       "// Listen for the removal of the full notebook cells\n",
       "var notebookContainer = gd.closest('#notebook-container');\n",
       "if (notebookContainer) {{\n",
       "    x.observe(notebookContainer, {childList: true});\n",
       "}}\n",
       "\n",
       "// Listen for the clearing of the current output cell\n",
       "var outputEl = gd.closest('.output');\n",
       "if (outputEl) {{\n",
       "    x.observe(outputEl, {childList: true});\n",
       "}}\n",
       "\n",
       "                        })\n",
       "                };\n",
       "                });\n",
       "            </script>\n",
       "        </div>"
      ]
     },
     "metadata": {},
     "output_type": "display_data"
    }
   ],
   "source": [
    "fig2 = go.Figure(data=go.Bar(x=df['name'][:5], y=df['acres'][:5],\n",
    "                            text=y2,\n",
    "    textposition = 'auto',\n",
    "    marker=dict(\n",
    "        color='rgb(58,200,225)',\n",
    "        line=dict(\n",
    "            color='rgb(8,48,107)',\n",
    "            width=1.5),\n",
    "         ),\n",
    "    opacity=0.6))\n",
    "\n",
    "fig2.update_layout(\n",
    "    title=go.layout.Title(\n",
    "        text=\"Acres Affected\",\n",
    "        xref=\"paper\",\n",
    "        x=0\n",
    "    ))\n",
    "\n",
    "fig2.show()       "
   ]
  },
  {
   "cell_type": "code",
   "execution_count": null,
   "metadata": {},
   "outputs": [],
   "source": [
    "pio.write_html(fig1, file='acres_affected.html', auto_open=True)"
   ]
  },
  {
   "cell_type": "code",
   "execution_count": 87,
   "metadata": {},
   "outputs": [],
   "source": [
    "import plotly.io as pio"
   ]
  },
  {
   "cell_type": "code",
   "execution_count": 115,
   "metadata": {},
   "outputs": [
    {
     "data": {
      "application/vnd.plotly.v1+json": {
       "config": {
        "plotlyServerURL": "https://plot.ly"
       },
       "data": [
        {
         "marker": {
          "color": "rgb(158,202,225)",
          "line": {
           "color": "rgb(8,48,107)",
           "width": 1.5
          }
         },
         "opacity": 0.6,
         "text": [
          " 5",
          " 97",
          " 70",
          " 20",
          " 90"
         ],
         "textposition": "auto",
         "type": "bar",
         "x": [
          "Kincade Fire",
          "Saddle Ridge Fire",
          "Tick Fire",
          "Burris Fire",
          "Sky Fire "
         ],
         "xaxis": "x",
         "y": [
          " 5",
          " 97",
          " 70",
          " 20",
          " 90"
         ],
         "yaxis": "y"
        },
        {
         "marker": {
          "color": "rgb(58,200,225)",
          "line": {
           "color": "rgb(8,48,107)",
           "width": 1.5
          }
         },
         "opacity": 0.6,
         "text": [
          "66231 ",
          "8799 ",
          "4615 ",
          "350 ",
          "150 "
         ],
         "textposition": "auto",
         "type": "bar",
         "x": [
          "Kincade Fire",
          "Saddle Ridge Fire",
          "Tick Fire",
          "Burris Fire",
          "Sky Fire "
         ],
         "xaxis": "x2",
         "y": [
          "66231 ",
          "8799 ",
          "4615 ",
          "350 ",
          "150 "
         ],
         "yaxis": "y2"
        }
       ],
       "layout": {
        "annotations": [
         {
          "font": {
           "size": 16
          },
          "showarrow": false,
          "text": "Percent Contained",
          "x": 0.225,
          "xanchor": "center",
          "xref": "paper",
          "y": 1,
          "yanchor": "bottom",
          "yref": "paper"
         },
         {
          "font": {
           "size": 16
          },
          "showarrow": false,
          "text": "Acres Affected",
          "x": 0.775,
          "xanchor": "center",
          "xref": "paper",
          "y": 1,
          "yanchor": "bottom",
          "yref": "paper"
         }
        ],
        "showlegend": false,
        "template": {
         "data": {
          "bar": [
           {
            "error_x": {
             "color": "#2a3f5f"
            },
            "error_y": {
             "color": "#2a3f5f"
            },
            "marker": {
             "line": {
              "color": "#E5ECF6",
              "width": 0.5
             }
            },
            "type": "bar"
           }
          ],
          "barpolar": [
           {
            "marker": {
             "line": {
              "color": "#E5ECF6",
              "width": 0.5
             }
            },
            "type": "barpolar"
           }
          ],
          "carpet": [
           {
            "aaxis": {
             "endlinecolor": "#2a3f5f",
             "gridcolor": "white",
             "linecolor": "white",
             "minorgridcolor": "white",
             "startlinecolor": "#2a3f5f"
            },
            "baxis": {
             "endlinecolor": "#2a3f5f",
             "gridcolor": "white",
             "linecolor": "white",
             "minorgridcolor": "white",
             "startlinecolor": "#2a3f5f"
            },
            "type": "carpet"
           }
          ],
          "choropleth": [
           {
            "colorbar": {
             "outlinewidth": 0,
             "ticks": ""
            },
            "type": "choropleth"
           }
          ],
          "contour": [
           {
            "colorbar": {
             "outlinewidth": 0,
             "ticks": ""
            },
            "colorscale": [
             [
              0,
              "#0d0887"
             ],
             [
              0.1111111111111111,
              "#46039f"
             ],
             [
              0.2222222222222222,
              "#7201a8"
             ],
             [
              0.3333333333333333,
              "#9c179e"
             ],
             [
              0.4444444444444444,
              "#bd3786"
             ],
             [
              0.5555555555555556,
              "#d8576b"
             ],
             [
              0.6666666666666666,
              "#ed7953"
             ],
             [
              0.7777777777777778,
              "#fb9f3a"
             ],
             [
              0.8888888888888888,
              "#fdca26"
             ],
             [
              1,
              "#f0f921"
             ]
            ],
            "type": "contour"
           }
          ],
          "contourcarpet": [
           {
            "colorbar": {
             "outlinewidth": 0,
             "ticks": ""
            },
            "type": "contourcarpet"
           }
          ],
          "heatmap": [
           {
            "colorbar": {
             "outlinewidth": 0,
             "ticks": ""
            },
            "colorscale": [
             [
              0,
              "#0d0887"
             ],
             [
              0.1111111111111111,
              "#46039f"
             ],
             [
              0.2222222222222222,
              "#7201a8"
             ],
             [
              0.3333333333333333,
              "#9c179e"
             ],
             [
              0.4444444444444444,
              "#bd3786"
             ],
             [
              0.5555555555555556,
              "#d8576b"
             ],
             [
              0.6666666666666666,
              "#ed7953"
             ],
             [
              0.7777777777777778,
              "#fb9f3a"
             ],
             [
              0.8888888888888888,
              "#fdca26"
             ],
             [
              1,
              "#f0f921"
             ]
            ],
            "type": "heatmap"
           }
          ],
          "heatmapgl": [
           {
            "colorbar": {
             "outlinewidth": 0,
             "ticks": ""
            },
            "colorscale": [
             [
              0,
              "#0d0887"
             ],
             [
              0.1111111111111111,
              "#46039f"
             ],
             [
              0.2222222222222222,
              "#7201a8"
             ],
             [
              0.3333333333333333,
              "#9c179e"
             ],
             [
              0.4444444444444444,
              "#bd3786"
             ],
             [
              0.5555555555555556,
              "#d8576b"
             ],
             [
              0.6666666666666666,
              "#ed7953"
             ],
             [
              0.7777777777777778,
              "#fb9f3a"
             ],
             [
              0.8888888888888888,
              "#fdca26"
             ],
             [
              1,
              "#f0f921"
             ]
            ],
            "type": "heatmapgl"
           }
          ],
          "histogram": [
           {
            "marker": {
             "colorbar": {
              "outlinewidth": 0,
              "ticks": ""
             }
            },
            "type": "histogram"
           }
          ],
          "histogram2d": [
           {
            "colorbar": {
             "outlinewidth": 0,
             "ticks": ""
            },
            "colorscale": [
             [
              0,
              "#0d0887"
             ],
             [
              0.1111111111111111,
              "#46039f"
             ],
             [
              0.2222222222222222,
              "#7201a8"
             ],
             [
              0.3333333333333333,
              "#9c179e"
             ],
             [
              0.4444444444444444,
              "#bd3786"
             ],
             [
              0.5555555555555556,
              "#d8576b"
             ],
             [
              0.6666666666666666,
              "#ed7953"
             ],
             [
              0.7777777777777778,
              "#fb9f3a"
             ],
             [
              0.8888888888888888,
              "#fdca26"
             ],
             [
              1,
              "#f0f921"
             ]
            ],
            "type": "histogram2d"
           }
          ],
          "histogram2dcontour": [
           {
            "colorbar": {
             "outlinewidth": 0,
             "ticks": ""
            },
            "colorscale": [
             [
              0,
              "#0d0887"
             ],
             [
              0.1111111111111111,
              "#46039f"
             ],
             [
              0.2222222222222222,
              "#7201a8"
             ],
             [
              0.3333333333333333,
              "#9c179e"
             ],
             [
              0.4444444444444444,
              "#bd3786"
             ],
             [
              0.5555555555555556,
              "#d8576b"
             ],
             [
              0.6666666666666666,
              "#ed7953"
             ],
             [
              0.7777777777777778,
              "#fb9f3a"
             ],
             [
              0.8888888888888888,
              "#fdca26"
             ],
             [
              1,
              "#f0f921"
             ]
            ],
            "type": "histogram2dcontour"
           }
          ],
          "mesh3d": [
           {
            "colorbar": {
             "outlinewidth": 0,
             "ticks": ""
            },
            "type": "mesh3d"
           }
          ],
          "parcoords": [
           {
            "line": {
             "colorbar": {
              "outlinewidth": 0,
              "ticks": ""
             }
            },
            "type": "parcoords"
           }
          ],
          "scatter": [
           {
            "marker": {
             "colorbar": {
              "outlinewidth": 0,
              "ticks": ""
             }
            },
            "type": "scatter"
           }
          ],
          "scatter3d": [
           {
            "line": {
             "colorbar": {
              "outlinewidth": 0,
              "ticks": ""
             }
            },
            "marker": {
             "colorbar": {
              "outlinewidth": 0,
              "ticks": ""
             }
            },
            "type": "scatter3d"
           }
          ],
          "scattercarpet": [
           {
            "marker": {
             "colorbar": {
              "outlinewidth": 0,
              "ticks": ""
             }
            },
            "type": "scattercarpet"
           }
          ],
          "scattergeo": [
           {
            "marker": {
             "colorbar": {
              "outlinewidth": 0,
              "ticks": ""
             }
            },
            "type": "scattergeo"
           }
          ],
          "scattergl": [
           {
            "marker": {
             "colorbar": {
              "outlinewidth": 0,
              "ticks": ""
             }
            },
            "type": "scattergl"
           }
          ],
          "scattermapbox": [
           {
            "marker": {
             "colorbar": {
              "outlinewidth": 0,
              "ticks": ""
             }
            },
            "type": "scattermapbox"
           }
          ],
          "scatterpolar": [
           {
            "marker": {
             "colorbar": {
              "outlinewidth": 0,
              "ticks": ""
             }
            },
            "type": "scatterpolar"
           }
          ],
          "scatterpolargl": [
           {
            "marker": {
             "colorbar": {
              "outlinewidth": 0,
              "ticks": ""
             }
            },
            "type": "scatterpolargl"
           }
          ],
          "scatterternary": [
           {
            "marker": {
             "colorbar": {
              "outlinewidth": 0,
              "ticks": ""
             }
            },
            "type": "scatterternary"
           }
          ],
          "surface": [
           {
            "colorbar": {
             "outlinewidth": 0,
             "ticks": ""
            },
            "colorscale": [
             [
              0,
              "#0d0887"
             ],
             [
              0.1111111111111111,
              "#46039f"
             ],
             [
              0.2222222222222222,
              "#7201a8"
             ],
             [
              0.3333333333333333,
              "#9c179e"
             ],
             [
              0.4444444444444444,
              "#bd3786"
             ],
             [
              0.5555555555555556,
              "#d8576b"
             ],
             [
              0.6666666666666666,
              "#ed7953"
             ],
             [
              0.7777777777777778,
              "#fb9f3a"
             ],
             [
              0.8888888888888888,
              "#fdca26"
             ],
             [
              1,
              "#f0f921"
             ]
            ],
            "type": "surface"
           }
          ],
          "table": [
           {
            "cells": {
             "fill": {
              "color": "#EBF0F8"
             },
             "line": {
              "color": "white"
             }
            },
            "header": {
             "fill": {
              "color": "#C8D4E3"
             },
             "line": {
              "color": "white"
             }
            },
            "type": "table"
           }
          ]
         },
         "layout": {
          "annotationdefaults": {
           "arrowcolor": "#2a3f5f",
           "arrowhead": 0,
           "arrowwidth": 1
          },
          "colorscale": {
           "diverging": [
            [
             0,
             "#8e0152"
            ],
            [
             0.1,
             "#c51b7d"
            ],
            [
             0.2,
             "#de77ae"
            ],
            [
             0.3,
             "#f1b6da"
            ],
            [
             0.4,
             "#fde0ef"
            ],
            [
             0.5,
             "#f7f7f7"
            ],
            [
             0.6,
             "#e6f5d0"
            ],
            [
             0.7,
             "#b8e186"
            ],
            [
             0.8,
             "#7fbc41"
            ],
            [
             0.9,
             "#4d9221"
            ],
            [
             1,
             "#276419"
            ]
           ],
           "sequential": [
            [
             0,
             "#0d0887"
            ],
            [
             0.1111111111111111,
             "#46039f"
            ],
            [
             0.2222222222222222,
             "#7201a8"
            ],
            [
             0.3333333333333333,
             "#9c179e"
            ],
            [
             0.4444444444444444,
             "#bd3786"
            ],
            [
             0.5555555555555556,
             "#d8576b"
            ],
            [
             0.6666666666666666,
             "#ed7953"
            ],
            [
             0.7777777777777778,
             "#fb9f3a"
            ],
            [
             0.8888888888888888,
             "#fdca26"
            ],
            [
             1,
             "#f0f921"
            ]
           ],
           "sequentialminus": [
            [
             0,
             "#0d0887"
            ],
            [
             0.1111111111111111,
             "#46039f"
            ],
            [
             0.2222222222222222,
             "#7201a8"
            ],
            [
             0.3333333333333333,
             "#9c179e"
            ],
            [
             0.4444444444444444,
             "#bd3786"
            ],
            [
             0.5555555555555556,
             "#d8576b"
            ],
            [
             0.6666666666666666,
             "#ed7953"
            ],
            [
             0.7777777777777778,
             "#fb9f3a"
            ],
            [
             0.8888888888888888,
             "#fdca26"
            ],
            [
             1,
             "#f0f921"
            ]
           ]
          },
          "colorway": [
           "#636efa",
           "#EF553B",
           "#00cc96",
           "#ab63fa",
           "#FFA15A",
           "#19d3f3",
           "#FF6692",
           "#B6E880",
           "#FF97FF",
           "#FECB52"
          ],
          "font": {
           "color": "#2a3f5f"
          },
          "geo": {
           "bgcolor": "white",
           "lakecolor": "white",
           "landcolor": "#E5ECF6",
           "showlakes": true,
           "showland": true,
           "subunitcolor": "white"
          },
          "hoverlabel": {
           "align": "left"
          },
          "hovermode": "closest",
          "mapbox": {
           "style": "light"
          },
          "paper_bgcolor": "white",
          "plot_bgcolor": "#E5ECF6",
          "polar": {
           "angularaxis": {
            "gridcolor": "white",
            "linecolor": "white",
            "ticks": ""
           },
           "bgcolor": "#E5ECF6",
           "radialaxis": {
            "gridcolor": "white",
            "linecolor": "white",
            "ticks": ""
           }
          },
          "scene": {
           "xaxis": {
            "backgroundcolor": "#E5ECF6",
            "gridcolor": "white",
            "gridwidth": 2,
            "linecolor": "white",
            "showbackground": true,
            "ticks": "",
            "zerolinecolor": "white"
           },
           "yaxis": {
            "backgroundcolor": "#E5ECF6",
            "gridcolor": "white",
            "gridwidth": 2,
            "linecolor": "white",
            "showbackground": true,
            "ticks": "",
            "zerolinecolor": "white"
           },
           "zaxis": {
            "backgroundcolor": "#E5ECF6",
            "gridcolor": "white",
            "gridwidth": 2,
            "linecolor": "white",
            "showbackground": true,
            "ticks": "",
            "zerolinecolor": "white"
           }
          },
          "shapedefaults": {
           "line": {
            "color": "#2a3f5f"
           }
          },
          "ternary": {
           "aaxis": {
            "gridcolor": "white",
            "linecolor": "white",
            "ticks": ""
           },
           "baxis": {
            "gridcolor": "white",
            "linecolor": "white",
            "ticks": ""
           },
           "bgcolor": "#E5ECF6",
           "caxis": {
            "gridcolor": "white",
            "linecolor": "white",
            "ticks": ""
           }
          },
          "title": {
           "x": 0.05
          },
          "xaxis": {
           "automargin": true,
           "gridcolor": "white",
           "linecolor": "white",
           "ticks": "",
           "zerolinecolor": "white",
           "zerolinewidth": 2
          },
          "yaxis": {
           "automargin": true,
           "gridcolor": "white",
           "linecolor": "white",
           "ticks": "",
           "zerolinecolor": "white",
           "zerolinewidth": 2
          }
         }
        },
        "title": {
         "text": "California Wildfires as of October 28"
        },
        "xaxis": {
         "anchor": "y",
         "domain": [
          0,
          0.45
         ]
        },
        "xaxis2": {
         "anchor": "y2",
         "domain": [
          0.55,
          1
         ]
        },
        "yaxis": {
         "anchor": "x",
         "domain": [
          0,
          1
         ]
        },
        "yaxis2": {
         "anchor": "x2",
         "domain": [
          0,
          1
         ]
        }
       }
      },
      "text/html": [
       "<div>\n",
       "        \n",
       "        \n",
       "            <div id=\"42bce1eb-989a-4688-bf43-65bba46184ee\" class=\"plotly-graph-div\" style=\"height:525px; width:100%;\"></div>\n",
       "            <script type=\"text/javascript\">\n",
       "                require([\"plotly\"], function(Plotly) {\n",
       "                    window.PLOTLYENV=window.PLOTLYENV || {};\n",
       "                    \n",
       "                if (document.getElementById(\"42bce1eb-989a-4688-bf43-65bba46184ee\")) {\n",
       "                    Plotly.newPlot(\n",
       "                        '42bce1eb-989a-4688-bf43-65bba46184ee',\n",
       "                        [{\"marker\": {\"color\": \"rgb(158,202,225)\", \"line\": {\"color\": \"rgb(8,48,107)\", \"width\": 1.5}}, \"opacity\": 0.6, \"text\": [\" 5\", \" 97\", \" 70\", \" 20\", \" 90\"], \"textposition\": \"auto\", \"type\": \"bar\", \"x\": [\"Kincade Fire\", \"Saddle Ridge Fire\", \"Tick Fire\", \"Burris Fire\", \"Sky Fire \"], \"xaxis\": \"x\", \"y\": [\" 5\", \" 97\", \" 70\", \" 20\", \" 90\"], \"yaxis\": \"y\"}, {\"marker\": {\"color\": \"rgb(58,200,225)\", \"line\": {\"color\": \"rgb(8,48,107)\", \"width\": 1.5}}, \"opacity\": 0.6, \"text\": [\"66231 \", \"8799 \", \"4615 \", \"350 \", \"150 \"], \"textposition\": \"auto\", \"type\": \"bar\", \"x\": [\"Kincade Fire\", \"Saddle Ridge Fire\", \"Tick Fire\", \"Burris Fire\", \"Sky Fire \"], \"xaxis\": \"x2\", \"y\": [\"66231 \", \"8799 \", \"4615 \", \"350 \", \"150 \"], \"yaxis\": \"y2\"}],\n",
       "                        {\"annotations\": [{\"font\": {\"size\": 16}, \"showarrow\": false, \"text\": \"Percent Contained\", \"x\": 0.225, \"xanchor\": \"center\", \"xref\": \"paper\", \"y\": 1.0, \"yanchor\": \"bottom\", \"yref\": \"paper\"}, {\"font\": {\"size\": 16}, \"showarrow\": false, \"text\": \"Acres Affected\", \"x\": 0.775, \"xanchor\": \"center\", \"xref\": \"paper\", \"y\": 1.0, \"yanchor\": \"bottom\", \"yref\": \"paper\"}], \"showlegend\": false, \"template\": {\"data\": {\"bar\": [{\"error_x\": {\"color\": \"#2a3f5f\"}, \"error_y\": {\"color\": \"#2a3f5f\"}, \"marker\": {\"line\": {\"color\": \"#E5ECF6\", \"width\": 0.5}}, \"type\": \"bar\"}], \"barpolar\": [{\"marker\": {\"line\": {\"color\": \"#E5ECF6\", \"width\": 0.5}}, \"type\": \"barpolar\"}], \"carpet\": [{\"aaxis\": {\"endlinecolor\": \"#2a3f5f\", \"gridcolor\": \"white\", \"linecolor\": \"white\", \"minorgridcolor\": \"white\", \"startlinecolor\": \"#2a3f5f\"}, \"baxis\": {\"endlinecolor\": \"#2a3f5f\", \"gridcolor\": \"white\", \"linecolor\": \"white\", \"minorgridcolor\": \"white\", \"startlinecolor\": \"#2a3f5f\"}, \"type\": \"carpet\"}], \"choropleth\": [{\"colorbar\": {\"outlinewidth\": 0, \"ticks\": \"\"}, \"type\": \"choropleth\"}], \"contour\": [{\"colorbar\": {\"outlinewidth\": 0, \"ticks\": \"\"}, \"colorscale\": [[0.0, \"#0d0887\"], [0.1111111111111111, \"#46039f\"], [0.2222222222222222, \"#7201a8\"], [0.3333333333333333, \"#9c179e\"], [0.4444444444444444, \"#bd3786\"], [0.5555555555555556, \"#d8576b\"], [0.6666666666666666, \"#ed7953\"], [0.7777777777777778, \"#fb9f3a\"], [0.8888888888888888, \"#fdca26\"], [1.0, \"#f0f921\"]], \"type\": \"contour\"}], \"contourcarpet\": [{\"colorbar\": {\"outlinewidth\": 0, \"ticks\": \"\"}, \"type\": \"contourcarpet\"}], \"heatmap\": [{\"colorbar\": {\"outlinewidth\": 0, \"ticks\": \"\"}, \"colorscale\": [[0.0, \"#0d0887\"], [0.1111111111111111, \"#46039f\"], [0.2222222222222222, \"#7201a8\"], [0.3333333333333333, \"#9c179e\"], [0.4444444444444444, \"#bd3786\"], [0.5555555555555556, \"#d8576b\"], [0.6666666666666666, \"#ed7953\"], [0.7777777777777778, \"#fb9f3a\"], [0.8888888888888888, \"#fdca26\"], [1.0, \"#f0f921\"]], \"type\": \"heatmap\"}], \"heatmapgl\": [{\"colorbar\": {\"outlinewidth\": 0, \"ticks\": \"\"}, \"colorscale\": [[0.0, \"#0d0887\"], [0.1111111111111111, \"#46039f\"], [0.2222222222222222, \"#7201a8\"], [0.3333333333333333, \"#9c179e\"], [0.4444444444444444, \"#bd3786\"], [0.5555555555555556, \"#d8576b\"], [0.6666666666666666, \"#ed7953\"], [0.7777777777777778, \"#fb9f3a\"], [0.8888888888888888, \"#fdca26\"], [1.0, \"#f0f921\"]], \"type\": \"heatmapgl\"}], \"histogram\": [{\"marker\": {\"colorbar\": {\"outlinewidth\": 0, \"ticks\": \"\"}}, \"type\": \"histogram\"}], \"histogram2d\": [{\"colorbar\": {\"outlinewidth\": 0, \"ticks\": \"\"}, \"colorscale\": [[0.0, \"#0d0887\"], [0.1111111111111111, \"#46039f\"], [0.2222222222222222, \"#7201a8\"], [0.3333333333333333, \"#9c179e\"], [0.4444444444444444, \"#bd3786\"], [0.5555555555555556, \"#d8576b\"], [0.6666666666666666, \"#ed7953\"], [0.7777777777777778, \"#fb9f3a\"], [0.8888888888888888, \"#fdca26\"], [1.0, \"#f0f921\"]], \"type\": \"histogram2d\"}], \"histogram2dcontour\": [{\"colorbar\": {\"outlinewidth\": 0, \"ticks\": \"\"}, \"colorscale\": [[0.0, \"#0d0887\"], [0.1111111111111111, \"#46039f\"], [0.2222222222222222, \"#7201a8\"], [0.3333333333333333, \"#9c179e\"], [0.4444444444444444, \"#bd3786\"], [0.5555555555555556, \"#d8576b\"], [0.6666666666666666, \"#ed7953\"], [0.7777777777777778, \"#fb9f3a\"], [0.8888888888888888, \"#fdca26\"], [1.0, \"#f0f921\"]], \"type\": \"histogram2dcontour\"}], \"mesh3d\": [{\"colorbar\": {\"outlinewidth\": 0, \"ticks\": \"\"}, \"type\": \"mesh3d\"}], \"parcoords\": [{\"line\": {\"colorbar\": {\"outlinewidth\": 0, \"ticks\": \"\"}}, \"type\": \"parcoords\"}], \"scatter\": [{\"marker\": {\"colorbar\": {\"outlinewidth\": 0, \"ticks\": \"\"}}, \"type\": \"scatter\"}], \"scatter3d\": [{\"line\": {\"colorbar\": {\"outlinewidth\": 0, \"ticks\": \"\"}}, \"marker\": {\"colorbar\": {\"outlinewidth\": 0, \"ticks\": \"\"}}, \"type\": \"scatter3d\"}], \"scattercarpet\": [{\"marker\": {\"colorbar\": {\"outlinewidth\": 0, \"ticks\": \"\"}}, \"type\": \"scattercarpet\"}], \"scattergeo\": [{\"marker\": {\"colorbar\": {\"outlinewidth\": 0, \"ticks\": \"\"}}, \"type\": \"scattergeo\"}], \"scattergl\": [{\"marker\": {\"colorbar\": {\"outlinewidth\": 0, \"ticks\": \"\"}}, \"type\": \"scattergl\"}], \"scattermapbox\": [{\"marker\": {\"colorbar\": {\"outlinewidth\": 0, \"ticks\": \"\"}}, \"type\": \"scattermapbox\"}], \"scatterpolar\": [{\"marker\": {\"colorbar\": {\"outlinewidth\": 0, \"ticks\": \"\"}}, \"type\": \"scatterpolar\"}], \"scatterpolargl\": [{\"marker\": {\"colorbar\": {\"outlinewidth\": 0, \"ticks\": \"\"}}, \"type\": \"scatterpolargl\"}], \"scatterternary\": [{\"marker\": {\"colorbar\": {\"outlinewidth\": 0, \"ticks\": \"\"}}, \"type\": \"scatterternary\"}], \"surface\": [{\"colorbar\": {\"outlinewidth\": 0, \"ticks\": \"\"}, \"colorscale\": [[0.0, \"#0d0887\"], [0.1111111111111111, \"#46039f\"], [0.2222222222222222, \"#7201a8\"], [0.3333333333333333, \"#9c179e\"], [0.4444444444444444, \"#bd3786\"], [0.5555555555555556, \"#d8576b\"], [0.6666666666666666, \"#ed7953\"], [0.7777777777777778, \"#fb9f3a\"], [0.8888888888888888, \"#fdca26\"], [1.0, \"#f0f921\"]], \"type\": \"surface\"}], \"table\": [{\"cells\": {\"fill\": {\"color\": \"#EBF0F8\"}, \"line\": {\"color\": \"white\"}}, \"header\": {\"fill\": {\"color\": \"#C8D4E3\"}, \"line\": {\"color\": \"white\"}}, \"type\": \"table\"}]}, \"layout\": {\"annotationdefaults\": {\"arrowcolor\": \"#2a3f5f\", \"arrowhead\": 0, \"arrowwidth\": 1}, \"colorscale\": {\"diverging\": [[0, \"#8e0152\"], [0.1, \"#c51b7d\"], [0.2, \"#de77ae\"], [0.3, \"#f1b6da\"], [0.4, \"#fde0ef\"], [0.5, \"#f7f7f7\"], [0.6, \"#e6f5d0\"], [0.7, \"#b8e186\"], [0.8, \"#7fbc41\"], [0.9, \"#4d9221\"], [1, \"#276419\"]], \"sequential\": [[0.0, \"#0d0887\"], [0.1111111111111111, \"#46039f\"], [0.2222222222222222, \"#7201a8\"], [0.3333333333333333, \"#9c179e\"], [0.4444444444444444, \"#bd3786\"], [0.5555555555555556, \"#d8576b\"], [0.6666666666666666, \"#ed7953\"], [0.7777777777777778, \"#fb9f3a\"], [0.8888888888888888, \"#fdca26\"], [1.0, \"#f0f921\"]], \"sequentialminus\": [[0.0, \"#0d0887\"], [0.1111111111111111, \"#46039f\"], [0.2222222222222222, \"#7201a8\"], [0.3333333333333333, \"#9c179e\"], [0.4444444444444444, \"#bd3786\"], [0.5555555555555556, \"#d8576b\"], [0.6666666666666666, \"#ed7953\"], [0.7777777777777778, \"#fb9f3a\"], [0.8888888888888888, \"#fdca26\"], [1.0, \"#f0f921\"]]}, \"colorway\": [\"#636efa\", \"#EF553B\", \"#00cc96\", \"#ab63fa\", \"#FFA15A\", \"#19d3f3\", \"#FF6692\", \"#B6E880\", \"#FF97FF\", \"#FECB52\"], \"font\": {\"color\": \"#2a3f5f\"}, \"geo\": {\"bgcolor\": \"white\", \"lakecolor\": \"white\", \"landcolor\": \"#E5ECF6\", \"showlakes\": true, \"showland\": true, \"subunitcolor\": \"white\"}, \"hoverlabel\": {\"align\": \"left\"}, \"hovermode\": \"closest\", \"mapbox\": {\"style\": \"light\"}, \"paper_bgcolor\": \"white\", \"plot_bgcolor\": \"#E5ECF6\", \"polar\": {\"angularaxis\": {\"gridcolor\": \"white\", \"linecolor\": \"white\", \"ticks\": \"\"}, \"bgcolor\": \"#E5ECF6\", \"radialaxis\": {\"gridcolor\": \"white\", \"linecolor\": \"white\", \"ticks\": \"\"}}, \"scene\": {\"xaxis\": {\"backgroundcolor\": \"#E5ECF6\", \"gridcolor\": \"white\", \"gridwidth\": 2, \"linecolor\": \"white\", \"showbackground\": true, \"ticks\": \"\", \"zerolinecolor\": \"white\"}, \"yaxis\": {\"backgroundcolor\": \"#E5ECF6\", \"gridcolor\": \"white\", \"gridwidth\": 2, \"linecolor\": \"white\", \"showbackground\": true, \"ticks\": \"\", \"zerolinecolor\": \"white\"}, \"zaxis\": {\"backgroundcolor\": \"#E5ECF6\", \"gridcolor\": \"white\", \"gridwidth\": 2, \"linecolor\": \"white\", \"showbackground\": true, \"ticks\": \"\", \"zerolinecolor\": \"white\"}}, \"shapedefaults\": {\"line\": {\"color\": \"#2a3f5f\"}}, \"ternary\": {\"aaxis\": {\"gridcolor\": \"white\", \"linecolor\": \"white\", \"ticks\": \"\"}, \"baxis\": {\"gridcolor\": \"white\", \"linecolor\": \"white\", \"ticks\": \"\"}, \"bgcolor\": \"#E5ECF6\", \"caxis\": {\"gridcolor\": \"white\", \"linecolor\": \"white\", \"ticks\": \"\"}}, \"title\": {\"x\": 0.05}, \"xaxis\": {\"automargin\": true, \"gridcolor\": \"white\", \"linecolor\": \"white\", \"ticks\": \"\", \"zerolinecolor\": \"white\", \"zerolinewidth\": 2}, \"yaxis\": {\"automargin\": true, \"gridcolor\": \"white\", \"linecolor\": \"white\", \"ticks\": \"\", \"zerolinecolor\": \"white\", \"zerolinewidth\": 2}}}, \"title\": {\"text\": \"California Wildfires as of October 28\"}, \"xaxis\": {\"anchor\": \"y\", \"domain\": [0.0, 0.45]}, \"xaxis2\": {\"anchor\": \"y2\", \"domain\": [0.55, 1.0]}, \"yaxis\": {\"anchor\": \"x\", \"domain\": [0.0, 1.0]}, \"yaxis2\": {\"anchor\": \"x2\", \"domain\": [0.0, 1.0]}},\n",
       "                        {\"responsive\": true}\n",
       "                    ).then(function(){\n",
       "                            \n",
       "var gd = document.getElementById('42bce1eb-989a-4688-bf43-65bba46184ee');\n",
       "var x = new MutationObserver(function (mutations, observer) {{\n",
       "        var display = window.getComputedStyle(gd).display;\n",
       "        if (!display || display === 'none') {{\n",
       "            console.log([gd, 'removed!']);\n",
       "            Plotly.purge(gd);\n",
       "            observer.disconnect();\n",
       "        }}\n",
       "}});\n",
       "\n",
       "// Listen for the removal of the full notebook cells\n",
       "var notebookContainer = gd.closest('#notebook-container');\n",
       "if (notebookContainer) {{\n",
       "    x.observe(notebookContainer, {childList: true});\n",
       "}}\n",
       "\n",
       "// Listen for the clearing of the current output cell\n",
       "var outputEl = gd.closest('.output');\n",
       "if (outputEl) {{\n",
       "    x.observe(outputEl, {childList: true});\n",
       "}}\n",
       "\n",
       "                        })\n",
       "                };\n",
       "                });\n",
       "            </script>\n",
       "        </div>"
      ]
     },
     "metadata": {},
     "output_type": "display_data"
    }
   ],
   "source": [
    "from plotly.subplots import make_subplots\n",
    "\n",
    "fig = make_subplots(rows=1, cols=2, column_widths=[0.7, 0.7],\n",
    "                   subplot_titles=(\"Percent Contained\", \"Acres Affected\"))\n",
    "\n",
    "fig.add_trace(go.Bar(x=df['name'][:5], y=df['%_numeric'][:5],\n",
    "                                    text=y, textposition = 'auto',\n",
    "                                    marker=dict(\n",
    "                                        color='rgb(158,202,225)',\n",
    "                                        line=dict(\n",
    "                                            color='rgb(8,48,107)',\n",
    "                                            width=1.5)), opacity=0.6), row=1, col=1)\n",
    "\n",
    "fig.add_trace(go.Bar(x=df['name'][:5], y=df['acres'][:5],\n",
    "                            text=y2,\n",
    "    textposition = 'auto',\n",
    "    marker=dict(\n",
    "        color='rgb(58,200,225)',\n",
    "        line=dict(\n",
    "            color='rgb(8,48,107)',\n",
    "            width=1.5),\n",
    "         ),\n",
    "    opacity=0.6), row=1, col=2)\n",
    "             \n",
    "fig.update_layout(showlegend=False, title_text=\"California Wildfires as of October 28\")            \n",
    "\n",
    "fig.show()"
   ]
  },
  {
   "cell_type": "code",
   "execution_count": 116,
   "metadata": {},
   "outputs": [],
   "source": [
    "pio.write_html(fig, file='graphs.html', auto_open=True)"
   ]
  },
  {
   "cell_type": "code",
   "execution_count": null,
   "metadata": {},
   "outputs": [],
   "source": []
  }
 ],
 "metadata": {
  "kernelspec": {
   "display_name": "Python 3",
   "language": "python",
   "name": "python3"
  },
  "language_info": {
   "codemirror_mode": {
    "name": "ipython",
    "version": 3
   },
   "file_extension": ".py",
   "mimetype": "text/x-python",
   "name": "python",
   "nbconvert_exporter": "python",
   "pygments_lexer": "ipython3",
   "version": "3.7.3"
  }
 },
 "nbformat": 4,
 "nbformat_minor": 2
}
