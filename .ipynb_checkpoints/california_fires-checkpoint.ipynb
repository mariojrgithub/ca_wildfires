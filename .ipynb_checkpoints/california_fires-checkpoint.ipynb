{
 "cells": [
  {
   "cell_type": "markdown",
   "metadata": {},
   "source": [
    "# California Fire Information"
   ]
  },
  {
   "cell_type": "code",
   "execution_count": 1,
   "metadata": {},
   "outputs": [],
   "source": [
    "# Import libaries\n",
    "import pandas as pd\n",
    "import requests\n",
    "from bs4 import BeautifulSoup\n",
    "import time"
   ]
  },
  {
   "cell_type": "code",
   "execution_count": 2,
   "metadata": {},
   "outputs": [
    {
     "data": {
      "text/plain": [
       "200"
      ]
     },
     "execution_count": 2,
     "metadata": {},
     "output_type": "execute_result"
    }
   ],
   "source": [
    "# set url\n",
    "base_url = 'https://www.fire.ca.gov/incidents/'\n",
    "res = requests.get(base_url)\n",
    "# print status code\n",
    "res.status_code"
   ]
  },
  {
   "cell_type": "code",
   "execution_count": 3,
   "metadata": {},
   "outputs": [],
   "source": [
    "# create soup from base url\n",
    "soup = BeautifulSoup(res.content, 'lxml')"
   ]
  },
  {
   "cell_type": "code",
   "execution_count": 4,
   "metadata": {
    "scrolled": true
   },
   "outputs": [],
   "source": [
    "# examine soup object\n",
    "# print(soup.prettify())"
   ]
  },
  {
   "cell_type": "code",
   "execution_count": 5,
   "metadata": {
    "scrolled": true
   },
   "outputs": [],
   "source": [
    "# create table \n",
    "table = soup.find('div',{'class':'featured-incidents'})"
   ]
  },
  {
   "cell_type": "code",
   "execution_count": 6,
   "metadata": {
    "scrolled": true
   },
   "outputs": [],
   "source": [
    "# examine table\n",
    "# print(table.prettify())"
   ]
  },
  {
   "cell_type": "code",
   "execution_count": 7,
   "metadata": {},
   "outputs": [
    {
     "name": "stdout",
     "output_type": "stream",
     "text": [
      "9:30am\n",
      "10/23/2019\n",
      "7:13am\n",
      "2:11pm\n",
      "7:46am\n",
      "9:20am\n",
      "7:41am\n",
      "3:06pm\n",
      "10/24/2019\n",
      "10/24/2019\n",
      "10/22/2019\n",
      "10/21/2019\n",
      "10/14/2019\n",
      "10/04/2019\n"
     ]
    }
   ],
   "source": [
    "# cell used to isolate info\n",
    "for i in table.find_all('div',{'class':'featured-incident'}):\n",
    "    print(i.find('div',{'class':'incident-description'}).find('strong').text)\n"
   ]
  },
  {
   "cell_type": "code",
   "execution_count": 8,
   "metadata": {},
   "outputs": [
    {
     "data": {
      "text/html": [
       "<div>\n",
       "<style scoped>\n",
       "    .dataframe tbody tr th:only-of-type {\n",
       "        vertical-align: middle;\n",
       "    }\n",
       "\n",
       "    .dataframe tbody tr th {\n",
       "        vertical-align: top;\n",
       "    }\n",
       "\n",
       "    .dataframe thead th {\n",
       "        text-align: right;\n",
       "    }\n",
       "</style>\n",
       "<table border=\"1\" class=\"dataframe\">\n",
       "  <thead>\n",
       "    <tr style=\"text-align: right;\">\n",
       "      <th></th>\n",
       "      <th>acres</th>\n",
       "      <th>current_as_of</th>\n",
       "      <th>lat</th>\n",
       "      <th>lng</th>\n",
       "      <th>name</th>\n",
       "      <th>percent_contained</th>\n",
       "    </tr>\n",
       "  </thead>\n",
       "  <tbody>\n",
       "    <tr>\n",
       "      <th>0</th>\n",
       "      <td>21900</td>\n",
       "      <td>9:30am</td>\n",
       "      <td>38.792458</td>\n",
       "      <td>-122.780053</td>\n",
       "      <td>Kincade Fire</td>\n",
       "      <td>5%</td>\n",
       "    </tr>\n",
       "    <tr>\n",
       "      <th>1</th>\n",
       "      <td>8799</td>\n",
       "      <td>10/23/2019</td>\n",
       "      <td>34.32988</td>\n",
       "      <td>-118.48161</td>\n",
       "      <td>Saddle Ridge Fire</td>\n",
       "      <td>97%</td>\n",
       "    </tr>\n",
       "    <tr>\n",
       "      <th>2</th>\n",
       "      <td>4300</td>\n",
       "      <td>7:13am</td>\n",
       "      <td>34.472778</td>\n",
       "      <td>-118.368056</td>\n",
       "      <td>Tick Fire</td>\n",
       "      <td>5%</td>\n",
       "    </tr>\n",
       "    <tr>\n",
       "      <th>3</th>\n",
       "      <td>97</td>\n",
       "      <td>2:11pm</td>\n",
       "      <td>33.055124</td>\n",
       "      <td>-116.742508</td>\n",
       "      <td>Sawday Fire</td>\n",
       "      <td>15%</td>\n",
       "    </tr>\n",
       "    <tr>\n",
       "      <th>4</th>\n",
       "      <td>95</td>\n",
       "      <td>7:46am</td>\n",
       "      <td>37.166674</td>\n",
       "      <td>-122.361112</td>\n",
       "      <td>Cabrillo Fire</td>\n",
       "      <td>55%</td>\n",
       "    </tr>\n",
       "    <tr>\n",
       "      <th>5</th>\n",
       "      <td>58</td>\n",
       "      <td>9:20am</td>\n",
       "      <td>37.896231</td>\n",
       "      <td>-122.636471</td>\n",
       "      <td>Muir Fire</td>\n",
       "      <td>50%</td>\n",
       "    </tr>\n",
       "    <tr>\n",
       "      <th>6</th>\n",
       "      <td>50</td>\n",
       "      <td>7:41am</td>\n",
       "      <td>37.62782</td>\n",
       "      <td>-121.68598</td>\n",
       "      <td>Mines Fire</td>\n",
       "      <td>60%</td>\n",
       "    </tr>\n",
       "    <tr>\n",
       "      <th>7</th>\n",
       "      <td>10</td>\n",
       "      <td>3:06pm</td>\n",
       "      <td>33.259861</td>\n",
       "      <td>-117.027333</td>\n",
       "      <td>Miller Fire</td>\n",
       "      <td>%</td>\n",
       "    </tr>\n",
       "    <tr>\n",
       "      <th>8</th>\n",
       "      <td>Not a CAL FIRE Incident</td>\n",
       "      <td>10/24/2019</td>\n",
       "      <td>34.183624</td>\n",
       "      <td>-117.274276</td>\n",
       "      <td>Old Water Fire</td>\n",
       "      <td>%</td>\n",
       "    </tr>\n",
       "    <tr>\n",
       "      <th>9</th>\n",
       "      <td>Not a CAL FIRE Incident</td>\n",
       "      <td>10/24/2019</td>\n",
       "      <td>33.351145</td>\n",
       "      <td>-117.403719</td>\n",
       "      <td>Oak Fire</td>\n",
       "      <td>%</td>\n",
       "    </tr>\n",
       "    <tr>\n",
       "      <th>10</th>\n",
       "      <td>Not a CAL FIRE Incident</td>\n",
       "      <td>10/22/2019</td>\n",
       "      <td>34.055768</td>\n",
       "      <td>-118.554091</td>\n",
       "      <td>Palisades Fire</td>\n",
       "      <td>%</td>\n",
       "    </tr>\n",
       "    <tr>\n",
       "      <th>11</th>\n",
       "      <td>Not a CAL FIRE Incident</td>\n",
       "      <td>10/21/2019</td>\n",
       "      <td>33.45148</td>\n",
       "      <td>-116.05898</td>\n",
       "      <td>Johnson Fire</td>\n",
       "      <td>%</td>\n",
       "    </tr>\n",
       "    <tr>\n",
       "      <th>12</th>\n",
       "      <td>Not a CAL FIRE Incident</td>\n",
       "      <td>10/14/2019</td>\n",
       "      <td>38.724</td>\n",
       "      <td>-120.145</td>\n",
       "      <td>Caples Fire</td>\n",
       "      <td>%</td>\n",
       "    </tr>\n",
       "    <tr>\n",
       "      <th>13</th>\n",
       "      <td>Not a CAL FIRE Incident</td>\n",
       "      <td>10/04/2019</td>\n",
       "      <td>37.034</td>\n",
       "      <td>-118.345</td>\n",
       "      <td>Taboose Fire</td>\n",
       "      <td>%</td>\n",
       "    </tr>\n",
       "  </tbody>\n",
       "</table>\n",
       "</div>"
      ],
      "text/plain": [
       "                      acres current_as_of        lat          lng  \\\n",
       "0                    21900         9:30am  38.792458  -122.780053   \n",
       "1                     8799     10/23/2019   34.32988   -118.48161   \n",
       "2                     4300         7:13am  34.472778  -118.368056   \n",
       "3                       97         2:11pm  33.055124  -116.742508   \n",
       "4                       95         7:46am  37.166674  -122.361112   \n",
       "5                       58         9:20am  37.896231  -122.636471   \n",
       "6                       50         7:41am   37.62782   -121.68598   \n",
       "7                       10         3:06pm  33.259861  -117.027333   \n",
       "8   Not a CAL FIRE Incident    10/24/2019  34.183624  -117.274276   \n",
       "9   Not a CAL FIRE Incident    10/24/2019  33.351145  -117.403719   \n",
       "10  Not a CAL FIRE Incident    10/22/2019  34.055768  -118.554091   \n",
       "11  Not a CAL FIRE Incident    10/21/2019   33.45148   -116.05898   \n",
       "12  Not a CAL FIRE Incident    10/14/2019     38.724     -120.145   \n",
       "13  Not a CAL FIRE Incident    10/04/2019     37.034     -118.345   \n",
       "\n",
       "                 name percent_contained  \n",
       "0        Kincade Fire                5%  \n",
       "1   Saddle Ridge Fire               97%  \n",
       "2           Tick Fire                5%  \n",
       "3        Sawday Fire                15%  \n",
       "4       Cabrillo Fire               55%  \n",
       "5           Muir Fire               50%  \n",
       "6          Mines Fire               60%  \n",
       "7         Miller Fire                 %  \n",
       "8      Old Water Fire                 %  \n",
       "9            Oak Fire                 %  \n",
       "10     Palisades Fire                 %  \n",
       "11      Johnson Fire                  %  \n",
       "12        Caples Fire                 %  \n",
       "13       Taboose Fire                 %  "
      ]
     },
     "execution_count": 8,
     "metadata": {},
     "output_type": "execute_result"
    }
   ],
   "source": [
    "# loop through list to obtain desired info and create dataframe\n",
    "fires = []\n",
    "\n",
    "for i in table.find_all('div',{'class':'featured-incident'}):\n",
    "    fire = {}\n",
    "    \n",
    "    fire['name'] = i.find('div',{'class':'incident-label'}).text\n",
    "    fire['lat'] = i.attrs['data-lat']\n",
    "    fire['lng'] = i.attrs['data-long']\n",
    "    fire['percent_contained'] = i.find('div',{'class':'incident-containment'}).attrs['style'].replace('width:', '').replace(';', '')\n",
    "    fire['acres'] = i.find('span',{'class':'incident-acres'}).text.replace('acres', '')\n",
    "    fire['current_as_of'] = i.find('div',{'class':'incident-description'}).find('strong').text\n",
    "    fires.append(fire)\n",
    "\n",
    "df = pd.DataFrame(fires)\n",
    "df    "
   ]
  },
  {
   "cell_type": "code",
   "execution_count": 9,
   "metadata": {},
   "outputs": [
    {
     "data": {
      "text/plain": [
       "acres                object\n",
       "current_as_of        object\n",
       "lat                  object\n",
       "lng                  object\n",
       "name                 object\n",
       "percent_contained    object\n",
       "dtype: object"
      ]
     },
     "execution_count": 9,
     "metadata": {},
     "output_type": "execute_result"
    }
   ],
   "source": [
    "df.dtypes"
   ]
  },
  {
   "cell_type": "code",
   "execution_count": 10,
   "metadata": {},
   "outputs": [
    {
     "data": {
      "text/plain": [
       "acres                 object\n",
       "current_as_of         object\n",
       "lat                  float64\n",
       "lng                  float64\n",
       "name                  object\n",
       "percent_contained     object\n",
       "dtype: object"
      ]
     },
     "execution_count": 10,
     "metadata": {},
     "output_type": "execute_result"
    }
   ],
   "source": [
    "# cast lat and lng to float\n",
    "df[['lat', 'lng']] = df[['lat', 'lng']].astype(float)\n",
    "df.dtypes"
   ]
  },
  {
   "cell_type": "markdown",
   "metadata": {},
   "source": [
    "## Display fires on map"
   ]
  },
  {
   "cell_type": "code",
   "execution_count": 11,
   "metadata": {},
   "outputs": [],
   "source": [
    "import folium"
   ]
  },
  {
   "cell_type": "code",
   "execution_count": 12,
   "metadata": {
    "scrolled": false
   },
   "outputs": [
    {
     "data": {
      "text/html": [
       "<div style=\"width:100%;\"><div style=\"position:relative;width:100%;height:0;padding-bottom:60%;\"><iframe src=\"data:text/html;charset=utf-8;base64,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\" style=\"position:absolute;width:100%;height:100%;left:0;top:0;border:none !important;\" allowfullscreen webkitallowfullscreen mozallowfullscreen></iframe></div></div>"
      ],
      "text/plain": [
       "<folium.folium.Map at 0x29bc3f2a588>"
      ]
     },
     "execution_count": 12,
     "metadata": {},
     "output_type": "execute_result"
    }
   ],
   "source": [
    "# California latitude and longitude values\n",
    "latitude = 36.7783\n",
    "longitude = -119.4179\n",
    "\n",
    "# create map and display it\n",
    "cali_map = folium.Map(location=[latitude, longitude], zoom_start=6, tiles='Stamen Terrain')\n",
    "\n",
    "# add markers for fires\n",
    "labels = list(df.name)\n",
    "\n",
    "latitudes = list(df.lat)\n",
    "longitudes = list(df.lng)\n",
    "\n",
    "\n",
    "for lat, lng, label in zip(latitudes, longitudes, labels):\n",
    "    folium.Marker([lat, lng],popup=label).add_to(cali_map) \n",
    "\n",
    "# display the map of California\n",
    "cali_map"
   ]
  },
  {
   "cell_type": "code",
   "execution_count": null,
   "metadata": {},
   "outputs": [],
   "source": []
  }
 ],
 "metadata": {
  "kernelspec": {
   "display_name": "Python 3",
   "language": "python",
   "name": "python3"
  },
  "language_info": {
   "codemirror_mode": {
    "name": "ipython",
    "version": 3
   },
   "file_extension": ".py",
   "mimetype": "text/x-python",
   "name": "python",
   "nbconvert_exporter": "python",
   "pygments_lexer": "ipython3",
   "version": "3.7.3"
  }
 },
 "nbformat": 4,
 "nbformat_minor": 2
}
